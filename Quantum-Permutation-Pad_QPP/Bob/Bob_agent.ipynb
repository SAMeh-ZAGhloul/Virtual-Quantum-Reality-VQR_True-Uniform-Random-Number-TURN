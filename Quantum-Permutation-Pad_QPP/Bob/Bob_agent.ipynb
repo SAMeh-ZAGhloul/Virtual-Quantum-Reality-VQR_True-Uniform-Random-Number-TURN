{
 "cells": [
  {
   "cell_type": "markdown",
   "id": "07f51a8c-c74c-41fa-b3d9-b12444aae903",
   "metadata": {},
   "source": [
    "# Start Bob receiver agent as a uvicorn server\n",
    "\n",
    "Receiver agent functions as a uvicorn server and receives a file using:\n",
    "* 🛰️ FastAPI on the server (Remote Agent)\n",
    "* 📡 requests module on the client\n",
    "* 📦 File content encoded in Base64\n",
    "* 🌐 JSON-RPC 2.0 over HTTP\n",
    "\n",
    "## Documentation\n",
    "\n",
    "uvicorn, https://www.uvicorn.org/\n",
    "\n",
    "FastAPI is a modern, fast (high-performance), web framework for building APIs with Python based on standard Python type hints.\n",
    "https://fastapi.tiangolo.com/\n",
    "\n",
    "A2A leverages JSON-RPC 2.0 as the data exchange format for communication between a Client and a Remote Agent.\n",
    "https://google.github.io/A2A/#/documentation?id=agent-to-agent-communication\n",
    "\n",
    "JSON-RPC 2.0 Specification, https://www.jsonrpc.org/specification\n",
    "\n",
    "Welcome to jsonrpcserver’s documentation!\n",
    "https://www.jsonrpcserver.com/en/stable/examples.html#fastapi"
   ]
  },
  {
   "cell_type": "markdown",
   "id": "eba400f2-0de8-47bf-b226-92bdd1086ebd",
   "metadata": {},
   "source": [
    "## MIT License\n",
    "\n",
    "Copyright (c) 2025 Alain Chancé\n",
    "\n",
    "Permission is hereby granted, free of charge, to any person obtaining a copy\n",
    "of this software and associated documentation files (the \"Software\"), to deal\n",
    "in the Software without restriction, including without limitation the rights\n",
    "to use, copy, modify, merge, publish, distribute, sublicense, and/or sell\n",
    "copies of the Software, and to permit persons to whom the Software is\n",
    "furnished to do so, subject to the following conditions:\n",
    "\n",
    "The above copyright notice and this permission notice shall be included in all\n",
    "copies or substantial portions of the Software.\n",
    "\n",
    "THE SOFTWARE IS PROVIDED \"AS IS\", WITHOUT WARRANTY OF ANY KIND, EXPRESS OR\n",
    "IMPLIED, INCLUDING BUT NOT LIMITED TO THE WARRANTIES OF MERCHANTABILITY,\n",
    "FITNESS FOR A PARTICULAR PURPOSE AND NONINFRINGEMENT. IN NO EVENT SHALL THE\n",
    "AUTHORS OR COPYRIGHT HOLDERS BE LIABLE FOR ANY CLAIM, DAMAGES OR OTHER\n",
    "LIABILITY, WHETHER IN AN ACTION OF CONTRACT, TORT OR OTHERWISE, ARISING FROM,\n",
    "OUT OF OR IN CONNECTION WITH THE SOFTWARE OR THE USE OR OTHER DEALINGS IN THE\n",
    "SOFTWARE."
   ]
  },
  {
   "cell_type": "markdown",
   "id": "6da5e8e6-4dc9-4358-91a1-90c05cbbde39",
   "metadata": {},
   "source": [
    "### Install uvicorn\n",
    "Install uvicorn with minimal (pure Python) dependencies.\n",
    "https://www.uvicorn.org/"
   ]
  },
  {
   "cell_type": "code",
   "execution_count": null,
   "id": "4e3d6ae0-6267-40c1-9882-e8610559f86c",
   "metadata": {},
   "outputs": [],
   "source": [
    "pip install uvicorn"
   ]
  },
  {
   "cell_type": "markdown",
   "id": "b4d121ea-1ced-4bd6-b985-0b9351e93e95",
   "metadata": {},
   "source": [
    "### Install FastAPI\n",
    "FastAPI is a modern, fast (high-performance), web framework for building APIs with Python based on standard Python type hints.\n",
    "https://fastapi.tiangolo.com/"
   ]
  },
  {
   "cell_type": "code",
   "execution_count": null,
   "id": "98eb4bd8-02d3-4a7e-af79-8deb75e69671",
   "metadata": {
    "scrolled": true
   },
   "outputs": [],
   "source": [
    "pip install \"fastapi[standard]\""
   ]
  },
  {
   "cell_type": "markdown",
   "id": "2c656b9d-7f1e-4941-9e5f-6c48c561d904",
   "metadata": {},
   "source": [
    "### Install jsonrpcserver\n",
    "Process incoming JSON-RPC requests in Python.\n",
    "\n",
    "Welcome to jsonrpcserver’s documentation! https://www.jsonrpcserver.com/en/stable/\n",
    "\n",
    "https://pypi.org/project/jsonrpcserver/"
   ]
  },
  {
   "cell_type": "code",
   "execution_count": null,
   "id": "7c159e68-b108-40d7-94bd-3c1ae82e532c",
   "metadata": {},
   "outputs": [],
   "source": [
    "pip install jsonrpcserver"
   ]
  },
  {
   "cell_type": "code",
   "execution_count": null,
   "id": "797354ba-c322-49c1-b29d-1869e9518753",
   "metadata": {},
   "outputs": [],
   "source": [
    "import subprocess\n",
    "\n",
    "# Start receiver_agent as a uvicorn server\n",
    "# https://www.uvicorn.org/\n",
    "\n",
    "subprocess.run([\"python\", \"receiver_agent.py\"])"
   ]
  }
 ],
 "metadata": {
  "kernelspec": {
   "display_name": "Python 3 (ipykernel)",
   "language": "python",
   "name": "python3"
  },
  "language_info": {
   "codemirror_mode": {
    "name": "ipython",
    "version": 3
   },
   "file_extension": ".py",
   "mimetype": "text/x-python",
   "name": "python",
   "nbconvert_exporter": "python",
   "pygments_lexer": "ipython3",
   "version": "3.13.0"
  }
 },
 "nbformat": 4,
 "nbformat_minor": 5
}
