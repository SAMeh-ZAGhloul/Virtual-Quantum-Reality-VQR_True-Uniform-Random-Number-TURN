{
 "cells": [
  {
   "cell_type": "markdown",
   "id": "242d3af0-c877-413d-beee-3103c5a618f3",
   "metadata": {},
   "source": [
    "# Quantum Permutation Pad with Qiskit Runtime by Alain Chancé\n",
    "\n",
    "## MIT License\n",
    "\n",
    "Copyright (c) 2025 Alain Chancé\n",
    "\n",
    "Permission is hereby granted, free of charge, to any person obtaining a copy\n",
    "of this software and associated documentation files (the \"Software\"), to deal\n",
    "in the Software without restriction, including without limitation the rights\n",
    "to use, copy, modify, merge, publish, distribute, sublicense, and/or sell\n",
    "copies of the Software, and to permit persons to whom the Software is\n",
    "furnished to do so, subject to the following conditions:\n",
    "\n",
    "The above copyright notice and this permission notice shall be included in all\n",
    "copies or substantial portions of the Software.\n",
    "\n",
    "THE SOFTWARE IS PROVIDED \"AS IS\", WITHOUT WARRANTY OF ANY KIND, EXPRESS OR\n",
    "IMPLIED, INCLUDING BUT NOT LIMITED TO THE WARRANTIES OF MERCHANTABILITY,\n",
    "FITNESS FOR A PARTICULAR PURPOSE AND NONINFRINGEMENT. IN NO EVENT SHALL THE\n",
    "AUTHORS OR COPYRIGHT HOLDERS BE LIABLE FOR ANY CLAIM, DAMAGES OR OTHER\n",
    "LIABILITY, WHETHER IN AN ACTION OF CONTRACT, TORT OR OTHERWISE, ARISING FROM,\n",
    "OUT OF OR IN CONNECTION WITH THE SOFTWARE OR THE USE OR OTHER DEALINGS IN THE\n",
    "SOFTWARE.\n",
    "\n",
    "## Abstract\n",
    "Abstract— We demonstrate an efficient implementation of the Kuang and Barbeau’s Quantum Permutation pad (QPP) symmetric cryptographic algorithm with Qiskit Runtime, a new architecture offered by IBM Quantum that streamlines quantum computations. We have implemented a Python class QPP and template Jupyter notebooks with Qiskit code for encrypting and decrypting with n-qubit QPP any text file in UTF-16 format or any image file in .png format. We offer the option of running either a quantum circuit with $n$ qubits, or an alternate one with $2^n$ qubits which only uses swap gates and has a circuit depth of $O(n)$. It is inherently extremely fast and could be run efficiently on currently available noisy quantum computers. Our implementation leverages the new Qiskit Sampler primitive in localized mode which dramatically improves performance. We offer a highly efficient classical implementation which performs permutation gate matrix multiplication with information state vectors. We illustrate the use with two agents Alice and Bob who exchange a text file and an image file using 2-qubit QPP and 4-qubit QPP. \n",
    "\n",
    "Keywords—quantum communication, quantum encryption,\n",
    "quantum decryption, quantum security, secure communication, QPP, Qiskit, IBMQ\n",
    "\n",
    "## Credit: Kuang, R., Perepechaenko\n",
    "\n",
    "Appendix, source code for the implementation of the 2-qubits QPP of the following article:\n",
    "\n",
    "Kuang, R., Perepechaenko, M. Quantum encryption with quantum permutation pad in IBMQ systems. EPJ Quantum Technol. 9, 26 (2022). https://doi.org/10.1140/epjqt/s40507-022-00145-y \n",
    "\n",
    "## Rights and permissions\n",
    "$\\textbf{Open Access}$ This article is licensed under a Creative Commons Attribution 4.0 International License, which permits use, sharing, adaptation, distribution and reproduction in any medium or format, as long as you give appropriate credit to the original author(s) and the source, provide a link to the Creative Commons licence, and indicate if changes were made. The images or other third party material in this article are included in the article’s Creative Commons licence, unless indicated otherwise in a credit line to the material. If material is not included in the article’s Creative Commons licence and your intended use is not permitted by statutory regulation or exceeds the permitted use, you will need to obtain permission directly from the copyright holder. To view a copy of this licence, visit http://creativecommons.org/licenses/by/4.0/.\n",
    "\n",
    "# Adaptations made by Alain Chancé\n",
    "Updates are presented in the following cells at the end of this notebook:\n",
    "*   Summary of updates V6\n",
    "*   Summary of updates V5\n",
    "*   Summary of updates V4\n",
    "*   Summary of updates V3\n",
    "*   Summary of updates V2\n",
    "*   Summary of updates V1"
   ]
  },
  {
   "cell_type": "markdown",
   "id": "d77eec21-108d-472a-b765-acd4a421020a",
   "metadata": {},
   "source": [
    "## Run QPP_Bob python program"
   ]
  },
  {
   "cell_type": "code",
   "execution_count": null,
   "id": "7b310b6b-4490-4882-9876-240675fbad79",
   "metadata": {},
   "outputs": [
    {
     "name": "stdout",
     "output_type": "stream",
     "text": [
      "Qiskit SDK version: 2.1.0\n",
      "Qiskit Aer version: 0.17.1\n",
      "Qiskit runtime version: 0.40.1\n",
      "\n",
      "\u001b[1mQuantum permutation Pad with Qiskit Runtime by Alain Chancé\u001b[0m\n",
      "\n",
      "\u001b[1mMIT License\u001b[0m\n",
      "Copyright (c) 2022 Alain Chancé\n",
      "Permission is hereby granted, free of charge, to any person obtaining a copy\n",
      "of this software and associated documentation files (the \"Software\"), to deal\n",
      "in the Software without restriction, including without limitation the rights\n",
      "to use, copy, modify, merge, publish, distribute, sublicense, and/or sell\n",
      "copies of the Software, and to permit persons to whom the Software is\n",
      "furnished to do so, subject to the following conditions:\n",
      "\n",
      "The above copyright notice and this permission notice shall be included in all\n",
      "copies or substantial portions of the Software.\n",
      "THE SOFTWARE IS PROVIDED \"AS IS\", WITHOUT WARRANTY OF ANY KIND, EXPRESS OR\n",
      "IMPLIED, INCLUDING BUT NOT LIMITED TO THE WARRANTIES OF MERCHANTABILITY,\n",
      "FITNESS FOR A PARTICULAR PURPOSE AND NONINFRINGEMENT. IN NO EVENT SHALL THE\n",
      "AUTHORS OR COPYRIGHT HOLDERS BE LIABLE FOR ANY CLAIM, DAMAGES OR OTHER\n",
      "LIABILITY, WHETHER IN AN ACTION OF CONTRACT, TORT OR OTHERWISE, ARISING FROM,\n",
      "OUT OF OR IN CONNECTION WITH THE SOFTWARE OR THE USE OR OTHER DEALINGS IN THE\n",
      "SOFTWARE.\n",
      "\n",
      "\u001b[1mAbstract\u001b[0m\n",
      "We demonstrate an efficient implementation of the Kuang and Barbeau’s Quantum Permutation pad (QPP) symmetric cryptographic \n",
      "algorithm with Qiskit Runtime, a new architecture offered by IBM Quantum that streamlines quantum computations. We have \n",
      "implemented a Python class QPP and template Jupyter notebooks with Qiskit code for encrypting and decrypting with n-qubit QPP \n",
      "any text file in UTF-16 format or any image file in .png format. We offer the option of running either a quantum circuit \n",
      "with n qubits, or an alternate one with 2**n qubits which only uses swap gates and has a circuit depth of O(n). \n",
      "It is inherently extremely fast and could be run efficiently on currently available noisy quantum computers. Our implementation \n",
      "leverages the new Qiskit Sampler primitive in localized mode which dramatically improves performance. We offer a highly \n",
      "efficient classical implementation which performs permutation gate matrix multiplication with information state vectors. We \n",
      "illustrate the use with two agents Alice and Bob who exchange a text file and an image file using 2-qubit QPP and 4-qubit QPP.\n",
      "\n",
      "Keywords—quantum communication, quantum encryption, quantum decryption, quantum security, secure communication, QPP, Qiskit, \n",
      "IBMQ\n",
      "\n",
      "\u001b[1mCredit\u001b[0m\n",
      "Kuang, R., Perepechaenko, Appendix, source code for the implementation of the 2-qubits QPP of the following article:\n",
      "Kuang, R., Perepechaenko, M. Quantum encryption with quantum permutation pad in IBMQ systems. EPJ Quantum Technol. 9, 26 (2022). https://doi.org/10.1140/epjqt/s40507-022-00145-y\n",
      "\n",
      "\u001b[1mRights and Permissions\u001b[0m\n",
      "\u001b[1mOpen Access\u001b[0m This article is licensed under a Creative Commons Attribution 4.0 International License.\n",
      "To view a copy of this licence, visit http://creativecommons.org/licenses/by/4.0/.\n",
      "\n",
      "\u001b[1mReferences\u001b[0m\n",
      "[1] Kuang, Randy. Quantum Permutation Pad for Quantum Secure Symmetric and Asymmetric Cryptography. Vol. 2, no. 1, Academia Quantum, 2025. https://doi.org/10.20935/AcadQuant7457 \n",
      "[2] I. Burge, M. T. Mai and M. Barbeau, 'A Permutation Dispatch Circuit Design for Quantum Permutation Pad Symmetric Encryption', 2024 13th International Conference on Communications, Circuits and Systems (ICCCAS), Xiamen, China, 2024, pp. 35-40, doi: 10.1109/ICCCAS62034.2024.10652827.\n",
      "[3] Chancé, A. (2024). Quantum Permutation Pad with Qiskit Runtime. In: Femmam, S., Lorenz, P. (eds) Recent Advances in Communication Networks and Embedded Systems. ICCNT 2022. Lecture Notes on Data Engineering and Communications Technologies, vol 205. Springer, Cham. https://doi.org/10.1007/978-3-031-59619-3_12 \n",
      "[4] Kuang, R., Barbeau, M. Quantum permutation pad for universal quantum-safe cryptography. Quantum Inf Process 21, 211 (2022). https://doi.org/10.1007/s11128-022-03557-y \n",
      "[5] R. Kuang and N. Bettenburg, 'Shannon perfect secrecy in a discrete Hilbert space', in Proc. IEEE Int. Conf. Quantum Comput. Eng. (QCE), Oct. 2020, pp. 249-255, doi: 10.1109/QCE49297.2020.00039 \n",
      "[6] Kuang, R., Perepechaenko, M. Quantum encryption with quantum permutation pad in IBMQ systems. EPJ Quantum Technol. 9, 26 (2022). https://doi.org/10.1140/epjqt/s40507-022-00145-y \n",
      "[7] Qiskit Runtime overview, IBM Quantum, https://cloud.ibm.com/docs/quantum-computing?topic=quantum-computing-overview \n",
      "[8] QiskitRuntimeService, https://docs.quantum.ibm.com/api/qiskit-ibm-runtime/qiskit_ibm_runtime.QiskitRuntimeService#qiskitruntimeservice \n",
      "[9] Qiskit v2.0 migration guide, https://docs.quantum.ibm.com/migration-guides/qiskit-2.0 \n",
      "[10] Qiskit Aer documentation, https://qiskit.github.io/qiskit-aer/ \n",
      "[11] Qiskit Aer 0.16.1, Getting started, https://qiskit.github.io/qiskit-aer/getting_started.html \n",
      "[12] Qiskit Aer 0.16.1, Simulators, https://qiskit.github.io/qiskit-aer/tutorials/1_aersimulator.html \n",
      "[13] Migrate from cloud simulators to local simulators, https://docs.quantum.ibm.com/migration-guides/local-simulators#aersimulator\n",
      "\n",
      "\u001b[1mTrademarks\u001b[0m\n",
      "IBM®, IBM Q Experience®, and Qiskit® are registered trademarks of IBM Corporation.\n",
      "\n",
      "\u001b[1mUsing QPP_Alain.py\u001b[0m\n",
      "To use QPP_Alain, put QPP_Alain.py in the same directory as your code and insert the following import:\n",
      "from QPP_Alain import QPP\n"
     ]
    },
    {
     "name": "stdin",
     "output_type": "stream",
     "text": [
      "Enter version 0 (n qubits) or 1 (2**n qubits which only uses swap gates):  1\n"
     ]
    },
    {
     "name": "stdout",
     "output_type": "stream",
     "text": [
      "You entered:  1\n",
      "\n",
      "Parameters read from file: QPP_param.json\n",
      "{'num_of_bits': 448, 'num_of_qubits': 2, 'num_of_perm_in_pad': 56, 'pad_selection_key_size': 6, 'opt_level': 1, 'resilience_level': 1, 'plaintext_file': 'le-mont-saint-michel-normandy-france.jpg', 'token_file': 'Token.txt', 'CRN_file': 'CRN.txt', 'trace': 1, 'job_trigger': 143710, 'print_trigger': 143710, 'draw_circuit': 'True', 'do_sampler': 'True', 'backend_name': 'AerSimulator noiseless', 'version': 'V0', 'len_message': 1435421, 'len_ciphertext': 11483368, 'poll_interval': 5, 'timeout': 600}\n",
      "\n",
      "Printing trace into file:  Trace_2-qubits_le-mont-saint-michel-normandy-france.txt\n",
      "\n",
      "Version set to: V1\n",
      "\n",
      "Set n, possible number of quantum states = 2**num_of_qubits: 4\n",
      "backend_name: AerSimulator noiseless\n",
      "\n",
      "Using AerSimulator with method statevector and noiseless\n",
      "\n",
      "decrypt - Length of cipher text in bits retrieved from param dictionary: 11483368\n",
      "\n",
      "decrypt - First 192 bits in ciphertext string\n",
      "101111011110110100100100000111011010111010010100111101001100011110010101011111110001111011010111100111101010000100011010111101100100101010011100000001100000001010101101100011110011010010000111\n",
      "\n",
      "permutation pad - Permutation number: 0, matrix: \n"
     ]
    },
    {
     "data": {
      "text/latex": [
       "$$\n",
       "\n",
       "\\begin{bmatrix}\n",
       "1 & 0 & 0 & 0  \\\\\n",
       " 0 & 0 & 0 & 1  \\\\\n",
       " 0 & 1 & 0 & 0  \\\\\n",
       " 0 & 0 & 1 & 0  \\\\\n",
       " \\end{bmatrix}\n",
       "$$"
      ],
      "text/plain": [
       "<IPython.core.display.Latex object>"
      ]
     },
     "metadata": {},
     "output_type": "display_data"
    },
    {
     "name": "stdout",
     "output_type": "stream",
     "text": [
      "\n",
      "permutation pad - Permutation number: 0, Depth of quantum circuit: 2\n"
     ]
    },
    {
     "data": {
      "image/png": "[encoded data removed]",
      "text/plain": [
       "<Figure size 287.496x451.5 with 1 Axes>"
      ]
     },
     "metadata": {},
     "output_type": "display_data"
    },
    {
     "name": "stdout",
     "output_type": "stream",
     "text": [
      "\n",
      "permutation_pad - permutation number: 0, dictionary:\n",
      "{0: '00', 1: '10', 2: '11', 3: '01'}\n",
      "permutation pad - Elapsed time: 0:00:00.500250\n",
      "\n",
      "permutation pad - Permutation number: 1, matrix: \n"
     ]
    },
    {
     "data": {
      "text/latex": [
       "$$\n",
       "\n",
       "\\begin{bmatrix}\n",
       "0 & 0 & 1 & 0  \\\\\n",
       " 0 & 0 & 0 & 1  \\\\\n",
       " 0 & 1 & 0 & 0  \\\\\n",
       " 1 & 0 & 0 & 0  \\\\\n",
       " \\end{bmatrix}\n",
       "$$"
      ],
      "text/plain": [
       "<IPython.core.display.Latex object>"
      ]
     },
     "metadata": {},
     "output_type": "display_data"
    },
    {
     "name": "stdout",
     "output_type": "stream",
     "text": [
      "\n",
      "permutation pad - Permutation number: 1, Depth of quantum circuit: 2\n"
     ]
    },
    {
     "data": {
      "image/png": "[encoded data removed]",
      "text/plain": [
       "<Figure size 371.107x451.5 with 1 Axes>"
      ]
     },
     "metadata": {},
     "output_type": "display_data"
    },
    {
     "name": "stdout",
     "output_type": "stream",
     "text": [
      "\n",
      "permutation_pad - permutation number: 1, dictionary:\n",
      "{0: '11', 1: '10', 2: '00', 3: '01'}\n",
      "permutation pad - Elapsed time: 0:00:00.568355\n",
      "\n",
      "permutation pad - Permutation number: 2, matrix: \n"
     ]
    },
    {
     "data": {
      "text/latex": [
       "$$\n",
       "\n",
       "\\begin{bmatrix}\n",
       "1 & 0 & 0 & 0  \\\\\n",
       " 0 & 1 & 0 & 0  \\\\\n",
       " 0 & 0 & 0 & 1  \\\\\n",
       " 0 & 0 & 1 & 0  \\\\\n",
       " \\end{bmatrix}\n",
       "$$"
      ],
      "text/plain": [
       "<IPython.core.display.Latex object>"
      ]
     },
     "metadata": {},
     "output_type": "display_data"
    },
    {
     "name": "stdout",
     "output_type": "stream",
     "text": [
      "\n",
      "permutation pad - Permutation number: 2, Depth of quantum circuit: 3\n"
     ]
    },
    {
     "data": {
      "image/png": "[encoded data removed]",
      "text/plain": [
       "<Figure size 371.107x451.5 with 1 Axes>"
      ]
     },
     "metadata": {},
     "output_type": "display_data"
    },
    {
     "name": "stdout",
     "output_type": "stream",
     "text": [
      "\n",
      "permutation_pad - permutation number: 2, dictionary:\n",
      "{0: '00', 1: '01', 2: '11', 3: '10'}\n",
      "permutation pad - Elapsed time: 0:00:00.630653\n",
      "\n",
      "permutation pad - Permutation number: 3, matrix: \n"
     ]
    },
    {
     "data": {
      "text/latex": [
       "$$\n",
       "\n",
       "\\begin{bmatrix}\n",
       "1 & 0 & 0 & 0  \\\\\n",
       " 0 & 1 & 0 & 0  \\\\\n",
       " 0 & 0 & 1 & 0  \\\\\n",
       " 0 & 0 & 0 & 1  \\\\\n",
       " \\end{bmatrix}\n",
       "$$"
      ],
      "text/plain": [
       "<IPython.core.display.Latex object>"
      ]
     },
     "metadata": {},
     "output_type": "display_data"
    },
    {
     "name": "stdout",
     "output_type": "stream",
     "text": [
      "\n",
      "permutation pad - Permutation number: 3, Depth of quantum circuit: 2\n"
     ]
    },
    {
     "data": {
      "image/png": "[encoded data removed]",
      "text/plain": [
       "<Figure size 287.496x451.5 with 1 Axes>"
      ]
     },
     "metadata": {},
     "output_type": "display_data"
    },
    {
     "name": "stdout",
     "output_type": "stream",
     "text": [
      "\n",
      "permutation_pad - permutation number: 3, dictionary:\n",
      "{0: '00', 1: '01', 2: '10', 3: '11'}\n",
      "permutation pad - Elapsed time: 0:00:00.695043\n",
      "\n",
      "permutation pad - Permutation number: 4, matrix: \n"
     ]
    },
    {
     "data": {
      "text/latex": [
       "$$\n",
       "\n",
       "\\begin{bmatrix}\n",
       "0 & 0 & 0 & 1  \\\\\n",
       " 1 & 0 & 0 & 0  \\\\\n",
       " 0 & 0 & 1 & 0  \\\\\n",
       " 0 & 1 & 0 & 0  \\\\\n",
       " \\end{bmatrix}\n",
       "$$"
      ],
      "text/plain": [
       "<IPython.core.display.Latex object>"
      ]
     },
     "metadata": {},
     "output_type": "display_data"
    },
    {
     "name": "stdout",
     "output_type": "stream",
     "text": [
      "\n",
      "permutation pad - Permutation number: 4, Depth of quantum circuit: 2\n"
     ]
    },
    {
     "data": {
      "image/png": "[encoded data removed]",
      "text/plain": [
       "<Figure size 287.496x451.5 with 1 Axes>"
      ]
     },
     "metadata": {},
     "output_type": "display_data"
    },
    {
     "name": "stdout",
     "output_type": "stream",
     "text": [
      "\n",
      "permutation_pad - permutation number: 4, dictionary:\n",
      "{0: '01', 1: '11', 2: '10', 3: '00'}\n",
      "permutation pad - Elapsed time: 0:00:00.759094\n",
      "\n",
      "permutation pad - Permutation number: 5, matrix: \n"
     ]
    },
    {
     "data": {
      "text/latex": [
       "$$\n",
       "\n",
       "\\begin{bmatrix}\n",
       "0 & 0 & 0 & 1  \\\\\n",
       " 1 & 0 & 0 & 0  \\\\\n",
       " 0 & 1 & 0 & 0  \\\\\n",
       " 0 & 0 & 1 & 0  \\\\\n",
       " \\end{bmatrix}\n",
       "$$"
      ],
      "text/plain": [
       "<IPython.core.display.Latex object>"
      ]
     },
     "metadata": {},
     "output_type": "display_data"
    },
    {
     "name": "stdout",
     "output_type": "stream",
     "text": [
      "\n",
      "permutation pad - Permutation number: 5, Depth of quantum circuit: 3\n"
     ]
    },
    {
     "data": {
      "image/png": "[encoded data removed]",
      "text/plain": [
       "<Figure size 371.107x451.5 with 1 Axes>"
      ]
     },
     "metadata": {},
     "output_type": "display_data"
    },
    {
     "name": "stdout",
     "output_type": "stream",
     "text": [
      "\n",
      "permutation_pad - permutation number: 5, dictionary:\n",
      "{0: '01', 1: '10', 2: '11', 3: '00'}\n",
      "permutation pad - Elapsed time: 0:00:00.970695\n",
      "\n",
      "permutation pad - Permutation number: 6, matrix: \n"
     ]
    },
    {
     "data": {
      "text/latex": [
       "$$\n",
       "\n",
       "\\begin{bmatrix}\n",
       "0 & 0 & 1 & 0  \\\\\n",
       " 0 & 1 & 0 & 0  \\\\\n",
       " 0 & 0 & 0 & 1  \\\\\n",
       " 1 & 0 & 0 & 0  \\\\\n",
       " \\end{bmatrix}\n",
       "$$"
      ],
      "text/plain": [
       "<IPython.core.display.Latex object>"
      ]
     },
     "metadata": {},
     "output_type": "display_data"
    },
    {
     "name": "stdout",
     "output_type": "stream",
     "text": [
      "\n",
      "permutation pad - Permutation number: 6, Depth of quantum circuit: 2\n"
     ]
    },
    {
     "data": {
      "image/png": "[encoded data removed]",
      "text/plain": [
       "<Figure size 287.496x451.5 with 1 Axes>"
      ]
     },
     "metadata": {},
     "output_type": "display_data"
    },
    {
     "name": "stdout",
     "output_type": "stream",
     "text": [
      "\n",
      "permutation_pad - permutation number: 6, dictionary:\n",
      "{0: '11', 1: '01', 2: '00', 3: '10'}\n",
      "permutation pad - Elapsed time: 0:00:01.027874\n",
      "\n",
      "permutation pad - Permutation number: 7, matrix: \n"
     ]
    },
    {
     "data": {
      "text/latex": [
       "$$\n",
       "\n",
       "\\begin{bmatrix}\n",
       "0 & 1 & 0 & 0  \\\\\n",
       " 1 & 0 & 0 & 0  \\\\\n",
       " 0 & 0 & 1 & 0  \\\\\n",
       " 0 & 0 & 0 & 1  \\\\\n",
       " \\end{bmatrix}\n",
       "$$"
      ],
      "text/plain": [
       "<IPython.core.display.Latex object>"
      ]
     },
     "metadata": {},
     "output_type": "display_data"
    },
    {
     "name": "stdout",
     "output_type": "stream",
     "text": [
      "\n",
      "permutation pad - Permutation number: 7, Depth of quantum circuit: 2\n"
     ]
    },
    {
     "data": {
      "image/png": "[encoded data removed]",
      "text/plain": [
       "<Figure size 287.496x451.5 with 1 Axes>"
      ]
     },
     "metadata": {},
     "output_type": "display_data"
    },
    {
     "name": "stdout",
     "output_type": "stream",
     "text": [
      "\n",
      "permutation_pad - permutation number: 7, dictionary:\n",
      "{0: '01', 1: '00', 2: '10', 3: '11'}\n",
      "permutation pad - Elapsed time: 0:00:01.118090\n",
      "\n",
      "permutation pad - Permutation number: 8, matrix: \n"
     ]
    },
    {
     "data": {
      "text/latex": [
       "$$\n",
       "\n",
       "\\begin{bmatrix}\n",
       "0 & 1 & 0 & 0  \\\\\n",
       " 0 & 0 & 1 & 0  \\\\\n",
       " 0 & 0 & 0 & 1  \\\\\n",
       " 1 & 0 & 0 & 0  \\\\\n",
       " \\end{bmatrix}\n",
       "$$"
      ],
      "text/plain": [
       "<IPython.core.display.Latex object>"
      ]
     },
     "metadata": {},
     "output_type": "display_data"
    },
    {
     "name": "stdout",
     "output_type": "stream",
     "text": [
      "\n",
      "permutation pad - Permutation number: 8, Depth of quantum circuit: 2\n"
     ]
    },
    {
     "data": {
      "image/png": "[encoded data removed]",
      "text/plain": [
       "<Figure size 287.496x451.5 with 1 Axes>"
      ]
     },
     "metadata": {},
     "output_type": "display_data"
    },
    {
     "name": "stdout",
     "output_type": "stream",
     "text": [
      "\n",
      "permutation_pad - permutation number: 8, dictionary:\n",
      "{0: '11', 1: '00', 2: '01', 3: '10'}\n",
      "permutation pad - Elapsed time: 0:00:01.187350\n",
      "\n",
      "permutation pad - Permutation number: 9, matrix: \n"
     ]
    },
    {
     "data": {
      "text/latex": [
       "$$\n",
       "\n",
       "\\begin{bmatrix}\n",
       "0 & 1 & 0 & 0  \\\\\n",
       " 0 & 0 & 0 & 1  \\\\\n",
       " 1 & 0 & 0 & 0  \\\\\n",
       " 0 & 0 & 1 & 0  \\\\\n",
       " \\end{bmatrix}\n",
       "$$"
      ],
      "text/plain": [
       "<IPython.core.display.Latex object>"
      ]
     },
     "metadata": {},
     "output_type": "display_data"
    },
    {
     "name": "stdout",
     "output_type": "stream",
     "text": [
      "\n",
      "permutation pad - Permutation number: 9, Depth of quantum circuit: 2\n"
     ]
    },
    {
     "data": {
      "image/png": "[encoded data removed]",
      "text/plain": [
       "<Figure size 371.107x451.5 with 1 Axes>"
      ]
     },
     "metadata": {},
     "output_type": "display_data"
    },
    {
     "name": "stdout",
     "output_type": "stream",
     "text": [
      "\n",
      "permutation_pad - permutation number: 9, dictionary:\n",
      "{0: '10', 1: '00', 2: '11', 3: '01'}\n",
      "permutation pad - Elapsed time: 0:00:01.252174\n",
      "\n",
      "permutation pad - Permutation number: 10, matrix: \n"
     ]
    },
    {
     "data": {
      "text/latex": [
       "$$\n",
       "\n",
       "\\begin{bmatrix}\n",
       "1 & 0 & 0 & 0  \\\\\n",
       " 0 & 0 & 1 & 0  \\\\\n",
       " 0 & 0 & 0 & 1  \\\\\n",
       " 0 & 1 & 0 & 0  \\\\\n",
       " \\end{bmatrix}\n",
       "$$"
      ],
      "text/plain": [
       "<IPython.core.display.Latex object>"
      ]
     },
     "metadata": {},
     "output_type": "display_data"
    },
    {
     "name": "stdout",
     "output_type": "stream",
     "text": [
      "\n",
      "permutation pad - Permutation number: 10, Depth of quantum circuit: 2\n"
     ]
    },
    {
     "data": {
      "image/png": "[encoded data removed]",
      "text/plain": [
       "<Figure size 287.496x451.5 with 1 Axes>"
      ]
     },
     "metadata": {},
     "output_type": "display_data"
    },
    {
     "name": "stdout",
     "output_type": "stream",
     "text": [
      "\n",
      "permutation_pad - permutation number: 10, dictionary:\n",
      "{0: '00', 1: '11', 2: '01', 3: '10'}\n",
      "permutation pad - Elapsed time: 0:00:01.307313\n",
      "\n",
      "permutation pad - Permutation number: 11, matrix: \n"
     ]
    },
    {
     "data": {
      "text/latex": [
       "$$\n",
       "\n",
       "\\begin{bmatrix}\n",
       "1 & 0 & 0 & 0  \\\\\n",
       " 0 & 0 & 0 & 1  \\\\\n",
       " 0 & 0 & 1 & 0  \\\\\n",
       " 0 & 1 & 0 & 0  \\\\\n",
       " \\end{bmatrix}\n",
       "$$"
      ],
      "text/plain": [
       "<IPython.core.display.Latex object>"
      ]
     },
     "metadata": {},
     "output_type": "display_data"
    },
    {
     "name": "stdout",
     "output_type": "stream",
     "text": [
      "\n",
      "permutation pad - Permutation number: 11, Depth of quantum circuit: 1\n"
     ]
    },
    {
     "data": {
      "image/png": "[encoded data removed]",
      "text/plain": [
       "<Figure size 203.885x451.5 with 1 Axes>"
      ]
     },
     "metadata": {},
     "output_type": "display_data"
    },
    {
     "name": "stdout",
     "output_type": "stream",
     "text": [
      "\n",
      "permutation_pad - permutation number: 11, dictionary:\n",
      "{0: '00', 1: '11', 2: '10', 3: '01'}\n",
      "permutation pad - Elapsed time: 0:00:01.363508\n",
      "\n",
      "permutation pad - Permutation number: 12, matrix: \n"
     ]
    },
    {
     "data": {
      "text/latex": [
       "$$\n",
       "\n",
       "\\begin{bmatrix}\n",
       "0 & 0 & 0 & 1  \\\\\n",
       " 1 & 0 & 0 & 0  \\\\\n",
       " 0 & 0 & 1 & 0  \\\\\n",
       " 0 & 1 & 0 & 0  \\\\\n",
       " \\end{bmatrix}\n",
       "$$"
      ],
      "text/plain": [
       "<IPython.core.display.Latex object>"
      ]
     },
     "metadata": {},
     "output_type": "display_data"
    },
    {
     "name": "stdout",
     "output_type": "stream",
     "text": [
      "\n",
      "permutation pad - Permutation number: 12, Depth of quantum circuit: 2\n"
     ]
    },
    {
     "data": {
      "image/png": "[encoded data removed]",
      "text/plain": [
       "<Figure size 287.496x451.5 with 1 Axes>"
      ]
     },
     "metadata": {},
     "output_type": "display_data"
    },
    {
     "name": "stdout",
     "output_type": "stream",
     "text": [
      "\n",
      "permutation_pad - permutation number: 12, dictionary:\n",
      "{0: '01', 1: '11', 2: '10', 3: '00'}\n",
      "permutation pad - Elapsed time: 0:00:01.423059\n",
      "\n",
      "permutation pad - Permutation number: 13, matrix: \n"
     ]
    },
    {
     "data": {
      "text/latex": [
       "$$\n",
       "\n",
       "\\begin{bmatrix}\n",
       "0 & 0 & 1 & 0  \\\\\n",
       " 0 & 1 & 0 & 0  \\\\\n",
       " 1 & 0 & 0 & 0  \\\\\n",
       " 0 & 0 & 0 & 1  \\\\\n",
       " \\end{bmatrix}\n",
       "$$"
      ],
      "text/plain": [
       "<IPython.core.display.Latex object>"
      ]
     },
     "metadata": {},
     "output_type": "display_data"
    },
    {
     "name": "stdout",
     "output_type": "stream",
     "text": [
      "\n",
      "permutation pad - Permutation number: 13, Depth of quantum circuit: 1\n"
     ]
    },
    {
     "data": {
      "image/png": "[encoded data removed]",
      "text/plain": [
       "<Figure size 203.885x451.5 with 1 Axes>"
      ]
     },
     "metadata": {},
     "output_type": "display_data"
    },
    {
     "name": "stdout",
     "output_type": "stream",
     "text": [
      "\n",
      "permutation_pad - permutation number: 13, dictionary:\n",
      "{0: '10', 1: '01', 2: '00', 3: '11'}\n",
      "permutation pad - Elapsed time: 0:00:01.484862\n",
      "\n",
      "permutation pad - Permutation number: 14, matrix: \n"
     ]
    },
    {
     "data": {
      "text/latex": [
       "$$\n",
       "\n",
       "\\begin{bmatrix}\n",
       "1 & 0 & 0 & 0  \\\\\n",
       " 0 & 1 & 0 & 0  \\\\\n",
       " 0 & 0 & 0 & 1  \\\\\n",
       " 0 & 0 & 1 & 0  \\\\\n",
       " \\end{bmatrix}\n",
       "$$"
      ],
      "text/plain": [
       "<IPython.core.display.Latex object>"
      ]
     },
     "metadata": {},
     "output_type": "display_data"
    },
    {
     "name": "stdout",
     "output_type": "stream",
     "text": [
      "\n",
      "permutation pad - Permutation number: 14, Depth of quantum circuit: 1\n"
     ]
    },
    {
     "data": {
      "image/png": "[encoded data removed]",
      "text/plain": [
       "<Figure size 203.885x451.5 with 1 Axes>"
      ]
     },
     "metadata": {},
     "output_type": "display_data"
    },
    {
     "name": "stdout",
     "output_type": "stream",
     "text": [
      "\n",
      "permutation_pad - permutation number: 14, dictionary:\n",
      "{0: '00', 1: '01', 2: '11', 3: '10'}\n",
      "permutation pad - Elapsed time: 0:00:01.545595\n",
      "\n",
      "permutation pad - Permutation number: 15, matrix: \n"
     ]
    },
    {
     "data": {
      "text/latex": [
       "$$\n",
       "\n",
       "\\begin{bmatrix}\n",
       "1 & 0 & 0 & 0  \\\\\n",
       " 0 & 0 & 1 & 0  \\\\\n",
       " 0 & 0 & 0 & 1  \\\\\n",
       " 0 & 1 & 0 & 0  \\\\\n",
       " \\end{bmatrix}\n",
       "$$"
      ],
      "text/plain": [
       "<IPython.core.display.Latex object>"
      ]
     },
     "metadata": {},
     "output_type": "display_data"
    },
    {
     "name": "stdout",
     "output_type": "stream",
     "text": [
      "\n",
      "permutation pad - Permutation number: 15, Depth of quantum circuit: 2\n"
     ]
    },
    {
     "data": {
      "image/png": "[encoded data removed]",
      "text/plain": [
       "<Figure size 287.496x451.5 with 1 Axes>"
      ]
     },
     "metadata": {},
     "output_type": "display_data"
    },
    {
     "name": "stdout",
     "output_type": "stream",
     "text": [
      "\n",
      "permutation_pad - permutation number: 15, dictionary:\n",
      "{0: '00', 1: '11', 2: '01', 3: '10'}\n",
      "permutation pad - Elapsed time: 0:00:01.609361\n",
      "\n",
      "permutation pad - Permutation number: 16, matrix: \n"
     ]
    },
    {
     "data": {
      "text/latex": [
       "$$\n",
       "\n",
       "\\begin{bmatrix}\n",
       "1 & 0 & 0 & 0  \\\\\n",
       " 0 & 1 & 0 & 0  \\\\\n",
       " 0 & 0 & 1 & 0  \\\\\n",
       " 0 & 0 & 0 & 1  \\\\\n",
       " \\end{bmatrix}\n",
       "$$"
      ],
      "text/plain": [
       "<IPython.core.display.Latex object>"
      ]
     },
     "metadata": {},
     "output_type": "display_data"
    },
    {
     "name": "stdout",
     "output_type": "stream",
     "text": [
      "\n",
      "permutation pad - Permutation number: 16, Depth of quantum circuit: 0\n"
     ]
    },
    {
     "data": {
      "image/png": "[encoded data removed]",
      "text/plain": [
       "<Figure size 162.08x451.5 with 1 Axes>"
      ]
     },
     "metadata": {},
     "output_type": "display_data"
    },
    {
     "name": "stdout",
     "output_type": "stream",
     "text": [
      "\n",
      "permutation_pad - permutation number: 16, dictionary:\n",
      "{0: '00', 1: '01', 2: '10', 3: '11'}\n",
      "permutation pad - Elapsed time: 0:00:01.671354\n",
      "\n",
      "permutation pad - Permutation number: 17, matrix: \n"
     ]
    },
    {
     "data": {
      "text/latex": [
       "$$\n",
       "\n",
       "\\begin{bmatrix}\n",
       "1 & 0 & 0 & 0  \\\\\n",
       " 0 & 0 & 1 & 0  \\\\\n",
       " 0 & 0 & 0 & 1  \\\\\n",
       " 0 & 1 & 0 & 0  \\\\\n",
       " \\end{bmatrix}\n",
       "$$"
      ],
      "text/plain": [
       "<IPython.core.display.Latex object>"
      ]
     },
     "metadata": {},
     "output_type": "display_data"
    },
    {
     "name": "stdout",
     "output_type": "stream",
     "text": [
      "\n",
      "permutation pad - Permutation number: 17, Depth of quantum circuit: 2\n"
     ]
    },
    {
     "data": {
      "image/png": "[encoded data removed]",
      "text/plain": [
       "<Figure size 287.496x451.5 with 1 Axes>"
      ]
     },
     "metadata": {},
     "output_type": "display_data"
    },
    {
     "name": "stdout",
     "output_type": "stream",
     "text": [
      "\n",
      "permutation_pad - permutation number: 17, dictionary:\n",
      "{0: '00', 1: '11', 2: '01', 3: '10'}\n",
      "permutation pad - Elapsed time: 0:00:01.732186\n",
      "\n",
      "permutation pad - Permutation number: 18, matrix: \n"
     ]
    },
    {
     "data": {
      "text/latex": [
       "$$\n",
       "\n",
       "\\begin{bmatrix}\n",
       "0 & 1 & 0 & 0  \\\\\n",
       " 1 & 0 & 0 & 0  \\\\\n",
       " 0 & 0 & 1 & 0  \\\\\n",
       " 0 & 0 & 0 & 1  \\\\\n",
       " \\end{bmatrix}\n",
       "$$"
      ],
      "text/plain": [
       "<IPython.core.display.Latex object>"
      ]
     },
     "metadata": {},
     "output_type": "display_data"
    },
    {
     "name": "stdout",
     "output_type": "stream",
     "text": [
      "\n",
      "permutation pad - Permutation number: 18, Depth of quantum circuit: 1\n"
     ]
    },
    {
     "data": {
      "image/png": "[encoded data removed]",
      "text/plain": [
       "<Figure size 203.885x451.5 with 1 Axes>"
      ]
     },
     "metadata": {},
     "output_type": "display_data"
    },
    {
     "name": "stdout",
     "output_type": "stream",
     "text": [
      "\n",
      "permutation_pad - permutation number: 18, dictionary:\n",
      "{0: '01', 1: '00', 2: '10', 3: '11'}\n",
      "permutation pad - Elapsed time: 0:00:01.785838\n",
      "\n",
      "permutation pad - Permutation number: 19, matrix: \n"
     ]
    },
    {
     "data": {
      "text/latex": [
       "$$\n",
       "\n",
       "\\begin{bmatrix}\n",
       "1 & 0 & 0 & 0  \\\\\n",
       " 0 & 0 & 0 & 1  \\\\\n",
       " 0 & 1 & 0 & 0  \\\\\n",
       " 0 & 0 & 1 & 0  \\\\\n",
       " \\end{bmatrix}\n",
       "$$"
      ],
      "text/plain": [
       "<IPython.core.display.Latex object>"
      ]
     },
     "metadata": {},
     "output_type": "display_data"
    },
    {
     "name": "stdout",
     "output_type": "stream",
     "text": [
      "\n",
      "permutation pad - Permutation number: 19, Depth of quantum circuit: 2\n"
     ]
    },
    {
     "data": {
      "image/png": "[encoded data removed]",
      "text/plain": [
       "<Figure size 287.496x451.5 with 1 Axes>"
      ]
     },
     "metadata": {},
     "output_type": "display_data"
    },
    {
     "name": "stdout",
     "output_type": "stream",
     "text": [
      "\n",
      "permutation_pad - permutation number: 19, dictionary:\n",
      "{0: '00', 1: '10', 2: '11', 3: '01'}\n",
      "permutation pad - Elapsed time: 0:00:01.840548\n",
      "\n",
      "permutation pad - Permutation number: 20, matrix: \n"
     ]
    },
    {
     "data": {
      "text/latex": [
       "$$\n",
       "\n",
       "\\begin{bmatrix}\n",
       "1 & 0 & 0 & 0  \\\\\n",
       " 0 & 0 & 0 & 1  \\\\\n",
       " 0 & 0 & 1 & 0  \\\\\n",
       " 0 & 1 & 0 & 0  \\\\\n",
       " \\end{bmatrix}\n",
       "$$"
      ],
      "text/plain": [
       "<IPython.core.display.Latex object>"
      ]
     },
     "metadata": {},
     "output_type": "display_data"
    },
    {
     "name": "stdout",
     "output_type": "stream",
     "text": [
      "\n",
      "permutation pad - Permutation number: 20, Depth of quantum circuit: 1\n"
     ]
    },
    {
     "data": {
      "image/png": "[encoded data removed]",
      "text/plain": [
       "<Figure size 203.885x451.5 with 1 Axes>"
      ]
     },
     "metadata": {},
     "output_type": "display_data"
    },
    {
     "name": "stdout",
     "output_type": "stream",
     "text": [
      "\n",
      "permutation_pad - permutation number: 20, dictionary:\n",
      "{0: '00', 1: '11', 2: '10', 3: '01'}\n",
      "permutation pad - Elapsed time: 0:00:01.898606\n",
      "\n",
      "permutation pad - Permutation number: 21, matrix: \n"
     ]
    },
    {
     "data": {
      "text/latex": [
       "$$\n",
       "\n",
       "\\begin{bmatrix}\n",
       "1 & 0 & 0 & 0  \\\\\n",
       " 0 & 0 & 0 & 1  \\\\\n",
       " 0 & 1 & 0 & 0  \\\\\n",
       " 0 & 0 & 1 & 0  \\\\\n",
       " \\end{bmatrix}\n",
       "$$"
      ],
      "text/plain": [
       "<IPython.core.display.Latex object>"
      ]
     },
     "metadata": {},
     "output_type": "display_data"
    },
    {
     "name": "stdout",
     "output_type": "stream",
     "text": [
      "\n",
      "permutation pad - Permutation number: 21, Depth of quantum circuit: 2\n"
     ]
    },
    {
     "data": {
      "image/png": "[encoded data removed]",
      "text/plain": [
       "<Figure size 287.496x451.5 with 1 Axes>"
      ]
     },
     "metadata": {},
     "output_type": "display_data"
    },
    {
     "name": "stdout",
     "output_type": "stream",
     "text": [
      "\n",
      "permutation_pad - permutation number: 21, dictionary:\n",
      "{0: '00', 1: '10', 2: '11', 3: '01'}\n",
      "permutation pad - Elapsed time: 0:00:01.963044\n",
      "\n",
      "permutation pad - Permutation number: 22, matrix: \n"
     ]
    },
    {
     "data": {
      "text/latex": [
       "$$\n",
       "\n",
       "\\begin{bmatrix}\n",
       "1 & 0 & 0 & 0  \\\\\n",
       " 0 & 1 & 0 & 0  \\\\\n",
       " 0 & 0 & 0 & 1  \\\\\n",
       " 0 & 0 & 1 & 0  \\\\\n",
       " \\end{bmatrix}\n",
       "$$"
      ],
      "text/plain": [
       "<IPython.core.display.Latex object>"
      ]
     },
     "metadata": {},
     "output_type": "display_data"
    },
    {
     "name": "stdout",
     "output_type": "stream",
     "text": [
      "\n",
      "permutation pad - Permutation number: 22, Depth of quantum circuit: 1\n"
     ]
    },
    {
     "data": {
      "image/png": "[encoded data removed]",
      "text/plain": [
       "<Figure size 203.885x451.5 with 1 Axes>"
      ]
     },
     "metadata": {},
     "output_type": "display_data"
    },
    {
     "name": "stdout",
     "output_type": "stream",
     "text": [
      "\n",
      "permutation_pad - permutation number: 22, dictionary:\n",
      "{0: '00', 1: '01', 2: '11', 3: '10'}\n",
      "permutation pad - Elapsed time: 0:00:02.029774\n",
      "\n",
      "permutation pad - Permutation number: 23, matrix: \n"
     ]
    },
    {
     "data": {
      "text/latex": [
       "$$\n",
       "\n",
       "\\begin{bmatrix}\n",
       "0 & 0 & 1 & 0  \\\\\n",
       " 1 & 0 & 0 & 0  \\\\\n",
       " 0 & 0 & 0 & 1  \\\\\n",
       " 0 & 1 & 0 & 0  \\\\\n",
       " \\end{bmatrix}\n",
       "$$"
      ],
      "text/plain": [
       "<IPython.core.display.Latex object>"
      ]
     },
     "metadata": {},
     "output_type": "display_data"
    },
    {
     "name": "stdout",
     "output_type": "stream",
     "text": [
      "\n",
      "permutation pad - Permutation number: 23, Depth of quantum circuit: 2\n"
     ]
    },
    {
     "data": {
      "image/png": "[encoded data removed]",
      "text/plain": [
       "<Figure size 287.496x451.5 with 1 Axes>"
      ]
     },
     "metadata": {},
     "output_type": "display_data"
    },
    {
     "name": "stdout",
     "output_type": "stream",
     "text": [
      "\n",
      "permutation_pad - permutation number: 23, dictionary:\n",
      "{0: '01', 1: '11', 2: '00', 3: '10'}\n",
      "permutation pad - Elapsed time: 0:00:02.086242\n",
      "\n",
      "permutation pad - Permutation number: 24, matrix: \n"
     ]
    },
    {
     "data": {
      "text/latex": [
       "$$\n",
       "\n",
       "\\begin{bmatrix}\n",
       "0 & 1 & 0 & 0  \\\\\n",
       " 0 & 0 & 1 & 0  \\\\\n",
       " 0 & 0 & 0 & 1  \\\\\n",
       " 1 & 0 & 0 & 0  \\\\\n",
       " \\end{bmatrix}\n",
       "$$"
      ],
      "text/plain": [
       "<IPython.core.display.Latex object>"
      ]
     },
     "metadata": {},
     "output_type": "display_data"
    },
    {
     "name": "stdout",
     "output_type": "stream",
     "text": [
      "\n",
      "permutation pad - Permutation number: 24, Depth of quantum circuit: 3\n"
     ]
    },
    {
     "data": {
      "image/png": "[encoded data removed]",
      "text/plain": [
       "<Figure size 371.107x451.5 with 1 Axes>"
      ]
     },
     "metadata": {},
     "output_type": "display_data"
    },
    {
     "name": "stdout",
     "output_type": "stream",
     "text": [
      "\n",
      "permutation_pad - permutation number: 24, dictionary:\n",
      "{0: '11', 1: '00', 2: '01', 3: '10'}\n",
      "permutation pad - Elapsed time: 0:00:02.147157\n",
      "\n",
      "permutation pad - Permutation number: 25, matrix: \n"
     ]
    },
    {
     "data": {
      "text/latex": [
       "$$\n",
       "\n",
       "\\begin{bmatrix}\n",
       "0 & 0 & 1 & 0  \\\\\n",
       " 0 & 0 & 0 & 1  \\\\\n",
       " 1 & 0 & 0 & 0  \\\\\n",
       " 0 & 1 & 0 & 0  \\\\\n",
       " \\end{bmatrix}\n",
       "$$"
      ],
      "text/plain": [
       "<IPython.core.display.Latex object>"
      ]
     },
     "metadata": {},
     "output_type": "display_data"
    },
    {
     "name": "stdout",
     "output_type": "stream",
     "text": [
      "\n",
      "permutation pad - Permutation number: 25, Depth of quantum circuit: 1\n"
     ]
    },
    {
     "data": {
      "image/png": "[encoded data removed]",
      "text/plain": [
       "<Figure size 287.496x451.5 with 1 Axes>"
      ]
     },
     "metadata": {},
     "output_type": "display_data"
    },
    {
     "name": "stdout",
     "output_type": "stream",
     "text": [
      "\n",
      "permutation_pad - permutation number: 25, dictionary:\n",
      "{0: '10', 1: '11', 2: '00', 3: '01'}\n",
      "permutation pad - Elapsed time: 0:00:02.207214\n",
      "\n",
      "permutation pad - Permutation number: 26, matrix: \n"
     ]
    },
    {
     "data": {
      "text/latex": [
       "$$\n",
       "\n",
       "\\begin{bmatrix}\n",
       "0 & 0 & 1 & 0  \\\\\n",
       " 0 & 1 & 0 & 0  \\\\\n",
       " 0 & 0 & 0 & 1  \\\\\n",
       " 1 & 0 & 0 & 0  \\\\\n",
       " \\end{bmatrix}\n",
       "$$"
      ],
      "text/plain": [
       "<IPython.core.display.Latex object>"
      ]
     },
     "metadata": {},
     "output_type": "display_data"
    },
    {
     "name": "stdout",
     "output_type": "stream",
     "text": [
      "\n",
      "permutation pad - Permutation number: 26, Depth of quantum circuit: 2\n"
     ]
    },
    {
     "data": {
      "image/png": "[encoded data removed]",
      "text/plain": [
       "<Figure size 287.496x451.5 with 1 Axes>"
      ]
     },
     "metadata": {},
     "output_type": "display_data"
    },
    {
     "name": "stdout",
     "output_type": "stream",
     "text": [
      "\n",
      "permutation_pad - permutation number: 26, dictionary:\n",
      "{0: '11', 1: '01', 2: '00', 3: '10'}\n",
      "permutation pad - Elapsed time: 0:00:02.270584\n",
      "\n",
      "permutation pad - Permutation number: 27, matrix: \n"
     ]
    },
    {
     "data": {
      "text/latex": [
       "$$\n",
       "\n",
       "\\begin{bmatrix}\n",
       "0 & 1 & 0 & 0  \\\\\n",
       " 1 & 0 & 0 & 0  \\\\\n",
       " 0 & 0 & 0 & 1  \\\\\n",
       " 0 & 0 & 1 & 0  \\\\\n",
       " \\end{bmatrix}\n",
       "$$"
      ],
      "text/plain": [
       "<IPython.core.display.Latex object>"
      ]
     },
     "metadata": {},
     "output_type": "display_data"
    },
    {
     "name": "stdout",
     "output_type": "stream",
     "text": [
      "\n",
      "permutation pad - Permutation number: 27, Depth of quantum circuit: 1\n"
     ]
    },
    {
     "data": {
      "image/png": "[encoded data removed]",
      "text/plain": [
       "<Figure size 203.885x451.5 with 1 Axes>"
      ]
     },
     "metadata": {},
     "output_type": "display_data"
    },
    {
     "name": "stdout",
     "output_type": "stream",
     "text": [
      "\n",
      "permutation_pad - permutation number: 27, dictionary:\n",
      "{0: '01', 1: '00', 2: '11', 3: '10'}\n",
      "permutation pad - Elapsed time: 0:00:02.328200\n",
      "\n",
      "permutation pad - Permutation number: 28, matrix: \n"
     ]
    },
    {
     "data": {
      "text/latex": [
       "$$\n",
       "\n",
       "\\begin{bmatrix}\n",
       "0 & 1 & 0 & 0  \\\\\n",
       " 1 & 0 & 0 & 0  \\\\\n",
       " 0 & 0 & 0 & 1  \\\\\n",
       " 0 & 0 & 1 & 0  \\\\\n",
       " \\end{bmatrix}\n",
       "$$"
      ],
      "text/plain": [
       "<IPython.core.display.Latex object>"
      ]
     },
     "metadata": {},
     "output_type": "display_data"
    },
    {
     "name": "stdout",
     "output_type": "stream",
     "text": [
      "\n",
      "permutation pad - Permutation number: 28, Depth of quantum circuit: 1\n"
     ]
    },
    {
     "data": {
      "image/png": "[encoded data removed]",
      "text/plain": [
       "<Figure size 203.885x451.5 with 1 Axes>"
      ]
     },
     "metadata": {},
     "output_type": "display_data"
    },
    {
     "name": "stdout",
     "output_type": "stream",
     "text": [
      "\n",
      "permutation_pad - permutation number: 28, dictionary:\n",
      "{0: '01', 1: '00', 2: '11', 3: '10'}\n",
      "permutation pad - Elapsed time: 0:00:02.395598\n",
      "\n",
      "permutation pad - Permutation number: 29, matrix: \n"
     ]
    },
    {
     "data": {
      "text/latex": [
       "$$\n",
       "\n",
       "\\begin{bmatrix}\n",
       "0 & 0 & 1 & 0  \\\\\n",
       " 1 & 0 & 0 & 0  \\\\\n",
       " 0 & 1 & 0 & 0  \\\\\n",
       " 0 & 0 & 0 & 1  \\\\\n",
       " \\end{bmatrix}\n",
       "$$"
      ],
      "text/plain": [
       "<IPython.core.display.Latex object>"
      ]
     },
     "metadata": {},
     "output_type": "display_data"
    },
    {
     "name": "stdout",
     "output_type": "stream",
     "text": [
      "\n",
      "permutation pad - Permutation number: 29, Depth of quantum circuit: 2\n"
     ]
    },
    {
     "data": {
      "image/png": "[encoded data removed]",
      "text/plain": [
       "<Figure size 287.496x451.5 with 1 Axes>"
      ]
     },
     "metadata": {},
     "output_type": "display_data"
    },
    {
     "name": "stdout",
     "output_type": "stream",
     "text": [
      "\n",
      "permutation_pad - permutation number: 29, dictionary:\n",
      "{0: '01', 1: '10', 2: '00', 3: '11'}\n",
      "permutation pad - Elapsed time: 0:00:02.610620\n",
      "\n",
      "permutation pad - Permutation number: 30, matrix: \n"
     ]
    },
    {
     "data": {
      "text/latex": [
       "$$\n",
       "\n",
       "\\begin{bmatrix}\n",
       "1 & 0 & 0 & 0  \\\\\n",
       " 0 & 0 & 0 & 1  \\\\\n",
       " 0 & 1 & 0 & 0  \\\\\n",
       " 0 & 0 & 1 & 0  \\\\\n",
       " \\end{bmatrix}\n",
       "$$"
      ],
      "text/plain": [
       "<IPython.core.display.Latex object>"
      ]
     },
     "metadata": {},
     "output_type": "display_data"
    },
    {
     "name": "stdout",
     "output_type": "stream",
     "text": [
      "\n",
      "permutation pad - Permutation number: 30, Depth of quantum circuit: 2\n"
     ]
    },
    {
     "data": {
      "image/png": "[encoded data removed]",
      "text/plain": [
       "<Figure size 287.496x451.5 with 1 Axes>"
      ]
     },
     "metadata": {},
     "output_type": "display_data"
    },
    {
     "name": "stdout",
     "output_type": "stream",
     "text": [
      "\n",
      "permutation_pad - permutation number: 30, dictionary:\n",
      "{0: '00', 1: '10', 2: '11', 3: '01'}\n",
      "permutation pad - Elapsed time: 0:00:02.663940\n",
      "\n",
      "permutation pad - Permutation number: 31, matrix: \n"
     ]
    },
    {
     "data": {
      "text/latex": [
       "$$\n",
       "\n",
       "\\begin{bmatrix}\n",
       "0 & 0 & 1 & 0  \\\\\n",
       " 1 & 0 & 0 & 0  \\\\\n",
       " 0 & 0 & 0 & 1  \\\\\n",
       " 0 & 1 & 0 & 0  \\\\\n",
       " \\end{bmatrix}\n",
       "$$"
      ],
      "text/plain": [
       "<IPython.core.display.Latex object>"
      ]
     },
     "metadata": {},
     "output_type": "display_data"
    },
    {
     "name": "stdout",
     "output_type": "stream",
     "text": [
      "\n",
      "permutation pad - Permutation number: 31, Depth of quantum circuit: 3\n"
     ]
    },
    {
     "data": {
      "image/png": "[encoded data removed]",
      "text/plain": [
       "<Figure size 371.107x451.5 with 1 Axes>"
      ]
     },
     "metadata": {},
     "output_type": "display_data"
    },
    {
     "name": "stdout",
     "output_type": "stream",
     "text": [
      "\n",
      "permutation_pad - permutation number: 31, dictionary:\n",
      "{0: '01', 1: '11', 2: '00', 3: '10'}\n",
      "permutation pad - Elapsed time: 0:00:02.730806\n",
      "\n",
      "permutation pad - Permutation number: 32, matrix: \n"
     ]
    },
    {
     "data": {
      "text/latex": [
       "$$\n",
       "\n",
       "\\begin{bmatrix}\n",
       "0 & 0 & 1 & 0  \\\\\n",
       " 0 & 0 & 0 & 1  \\\\\n",
       " 0 & 1 & 0 & 0  \\\\\n",
       " 1 & 0 & 0 & 0  \\\\\n",
       " \\end{bmatrix}\n",
       "$$"
      ],
      "text/plain": [
       "<IPython.core.display.Latex object>"
      ]
     },
     "metadata": {},
     "output_type": "display_data"
    },
    {
     "name": "stdout",
     "output_type": "stream",
     "text": [
      "\n",
      "permutation pad - Permutation number: 32, Depth of quantum circuit: 3\n"
     ]
    },
    {
     "data": {
      "image/png": "[encoded data removed]",
      "text/plain": [
       "<Figure size 371.107x451.5 with 1 Axes>"
      ]
     },
     "metadata": {},
     "output_type": "display_data"
    },
    {
     "name": "stdout",
     "output_type": "stream",
     "text": [
      "\n",
      "permutation_pad - permutation number: 32, dictionary:\n",
      "{0: '11', 1: '10', 2: '00', 3: '01'}\n",
      "permutation pad - Elapsed time: 0:00:02.790503\n",
      "\n",
      "permutation pad - Permutation number: 33, matrix: \n"
     ]
    },
    {
     "data": {
      "text/latex": [
       "$$\n",
       "\n",
       "\\begin{bmatrix}\n",
       "0 & 0 & 1 & 0  \\\\\n",
       " 0 & 1 & 0 & 0  \\\\\n",
       " 0 & 0 & 0 & 1  \\\\\n",
       " 1 & 0 & 0 & 0  \\\\\n",
       " \\end{bmatrix}\n",
       "$$"
      ],
      "text/plain": [
       "<IPython.core.display.Latex object>"
      ]
     },
     "metadata": {},
     "output_type": "display_data"
    },
    {
     "name": "stdout",
     "output_type": "stream",
     "text": [
      "\n",
      "permutation pad - Permutation number: 33, Depth of quantum circuit: 2\n"
     ]
    },
    {
     "data": {
      "image/png": "[encoded data removed]",
      "text/plain": [
       "<Figure size 287.496x451.5 with 1 Axes>"
      ]
     },
     "metadata": {},
     "output_type": "display_data"
    },
    {
     "name": "stdout",
     "output_type": "stream",
     "text": [
      "\n",
      "permutation_pad - permutation number: 33, dictionary:\n",
      "{0: '11', 1: '01', 2: '00', 3: '10'}\n",
      "permutation pad - Elapsed time: 0:00:02.851617\n",
      "\n",
      "permutation pad - Permutation number: 34, matrix: \n"
     ]
    },
    {
     "data": {
      "text/latex": [
       "$$\n",
       "\n",
       "\\begin{bmatrix}\n",
       "0 & 0 & 0 & 1  \\\\\n",
       " 0 & 0 & 1 & 0  \\\\\n",
       " 0 & 1 & 0 & 0  \\\\\n",
       " 1 & 0 & 0 & 0  \\\\\n",
       " \\end{bmatrix}\n",
       "$$"
      ],
      "text/plain": [
       "<IPython.core.display.Latex object>"
      ]
     },
     "metadata": {},
     "output_type": "display_data"
    },
    {
     "name": "stdout",
     "output_type": "stream",
     "text": [
      "\n",
      "permutation pad - Permutation number: 34, Depth of quantum circuit: 1\n"
     ]
    },
    {
     "data": {
      "image/png": "[encoded data removed]",
      "text/plain": [
       "<Figure size 287.496x451.5 with 1 Axes>"
      ]
     },
     "metadata": {},
     "output_type": "display_data"
    },
    {
     "name": "stdout",
     "output_type": "stream",
     "text": [
      "\n",
      "permutation_pad - permutation number: 34, dictionary:\n",
      "{0: '11', 1: '10', 2: '01', 3: '00'}\n",
      "permutation pad - Elapsed time: 0:00:02.913400\n",
      "\n",
      "permutation pad - Permutation number: 35, matrix: \n"
     ]
    },
    {
     "data": {
      "text/latex": [
       "$$\n",
       "\n",
       "\\begin{bmatrix}\n",
       "0 & 0 & 0 & 1  \\\\\n",
       " 0 & 0 & 1 & 0  \\\\\n",
       " 1 & 0 & 0 & 0  \\\\\n",
       " 0 & 1 & 0 & 0  \\\\\n",
       " \\end{bmatrix}\n",
       "$$"
      ],
      "text/plain": [
       "<IPython.core.display.Latex object>"
      ]
     },
     "metadata": {},
     "output_type": "display_data"
    },
    {
     "name": "stdout",
     "output_type": "stream",
     "text": [
      "\n",
      "permutation pad - Permutation number: 35, Depth of quantum circuit: 2\n"
     ]
    },
    {
     "data": {
      "image/png": "[encoded data removed]",
      "text/plain": [
       "<Figure size 371.107x451.5 with 1 Axes>"
      ]
     },
     "metadata": {},
     "output_type": "display_data"
    },
    {
     "name": "stdout",
     "output_type": "stream",
     "text": [
      "\n",
      "permutation_pad - permutation number: 35, dictionary:\n",
      "{0: '10', 1: '11', 2: '01', 3: '00'}\n",
      "permutation pad - Elapsed time: 0:00:02.994703\n",
      "\n",
      "permutation pad - Permutation number: 36, matrix: \n"
     ]
    },
    {
     "data": {
      "text/latex": [
       "$$\n",
       "\n",
       "\\begin{bmatrix}\n",
       "0 & 1 & 0 & 0  \\\\\n",
       " 0 & 0 & 1 & 0  \\\\\n",
       " 0 & 0 & 0 & 1  \\\\\n",
       " 1 & 0 & 0 & 0  \\\\\n",
       " \\end{bmatrix}\n",
       "$$"
      ],
      "text/plain": [
       "<IPython.core.display.Latex object>"
      ]
     },
     "metadata": {},
     "output_type": "display_data"
    },
    {
     "name": "stdout",
     "output_type": "stream",
     "text": [
      "\n",
      "permutation pad - Permutation number: 36, Depth of quantum circuit: 2\n"
     ]
    },
    {
     "data": {
      "image/png": "[encoded data removed]",
      "text/plain": [
       "<Figure size 287.496x451.5 with 1 Axes>"
      ]
     },
     "metadata": {},
     "output_type": "display_data"
    },
    {
     "name": "stdout",
     "output_type": "stream",
     "text": [
      "\n",
      "permutation_pad - permutation number: 36, dictionary:\n",
      "{0: '11', 1: '00', 2: '01', 3: '10'}\n",
      "permutation pad - Elapsed time: 0:00:03.060091\n",
      "\n",
      "permutation pad - Permutation number: 37, matrix: \n"
     ]
    },
    {
     "data": {
      "text/latex": [
       "$$\n",
       "\n",
       "\\begin{bmatrix}\n",
       "0 & 1 & 0 & 0  \\\\\n",
       " 0 & 0 & 1 & 0  \\\\\n",
       " 1 & 0 & 0 & 0  \\\\\n",
       " 0 & 0 & 0 & 1  \\\\\n",
       " \\end{bmatrix}\n",
       "$$"
      ],
      "text/plain": [
       "<IPython.core.display.Latex object>"
      ]
     },
     "metadata": {},
     "output_type": "display_data"
    },
    {
     "name": "stdout",
     "output_type": "stream",
     "text": [
      "\n",
      "permutation pad - Permutation number: 37, Depth of quantum circuit: 2\n"
     ]
    },
    {
     "data": {
      "image/png": "[encoded data removed]",
      "text/plain": [
       "<Figure size 287.496x451.5 with 1 Axes>"
      ]
     },
     "metadata": {},
     "output_type": "display_data"
    },
    {
     "name": "stdout",
     "output_type": "stream",
     "text": [
      "\n",
      "permutation_pad - permutation number: 37, dictionary:\n",
      "{0: '10', 1: '00', 2: '01', 3: '11'}\n",
      "permutation pad - Elapsed time: 0:00:03.124069\n",
      "\n",
      "permutation pad - Permutation number: 38, matrix: \n"
     ]
    },
    {
     "data": {
      "text/latex": [
       "$$\n",
       "\n",
       "\\begin{bmatrix}\n",
       "0 & 0 & 1 & 0  \\\\\n",
       " 0 & 0 & 0 & 1  \\\\\n",
       " 1 & 0 & 0 & 0  \\\\\n",
       " 0 & 1 & 0 & 0  \\\\\n",
       " \\end{bmatrix}\n",
       "$$"
      ],
      "text/plain": [
       "<IPython.core.display.Latex object>"
      ]
     },
     "metadata": {},
     "output_type": "display_data"
    },
    {
     "name": "stdout",
     "output_type": "stream",
     "text": [
      "\n",
      "permutation pad - Permutation number: 38, Depth of quantum circuit: 1\n"
     ]
    },
    {
     "data": {
      "image/png": "[encoded data removed]",
      "text/plain": [
       "<Figure size 287.496x451.5 with 1 Axes>"
      ]
     },
     "metadata": {},
     "output_type": "display_data"
    },
    {
     "name": "stdout",
     "output_type": "stream",
     "text": [
      "\n",
      "permutation_pad - permutation number: 38, dictionary:\n",
      "{0: '10', 1: '11', 2: '00', 3: '01'}\n",
      "permutation pad - Elapsed time: 0:00:03.188007\n",
      "\n",
      "permutation pad - Permutation number: 39, matrix: \n"
     ]
    },
    {
     "data": {
      "text/latex": [
       "$$\n",
       "\n",
       "\\begin{bmatrix}\n",
       "1 & 0 & 0 & 0  \\\\\n",
       " 0 & 0 & 0 & 1  \\\\\n",
       " 0 & 1 & 0 & 0  \\\\\n",
       " 0 & 0 & 1 & 0  \\\\\n",
       " \\end{bmatrix}\n",
       "$$"
      ],
      "text/plain": [
       "<IPython.core.display.Latex object>"
      ]
     },
     "metadata": {},
     "output_type": "display_data"
    },
    {
     "name": "stdout",
     "output_type": "stream",
     "text": [
      "\n",
      "permutation pad - Permutation number: 39, Depth of quantum circuit: 2\n"
     ]
    },
    {
     "data": {
      "image/png": "[encoded data removed]",
      "text/plain": [
       "<Figure size 287.496x451.5 with 1 Axes>"
      ]
     },
     "metadata": {},
     "output_type": "display_data"
    },
    {
     "name": "stdout",
     "output_type": "stream",
     "text": [
      "\n",
      "permutation_pad - permutation number: 39, dictionary:\n",
      "{0: '00', 1: '10', 2: '11', 3: '01'}\n",
      "permutation pad - Elapsed time: 0:00:03.249843\n",
      "\n",
      "permutation pad - Permutation number: 40, matrix: \n"
     ]
    },
    {
     "data": {
      "text/latex": [
       "$$\n",
       "\n",
       "\\begin{bmatrix}\n",
       "0 & 0 & 1 & 0  \\\\\n",
       " 0 & 1 & 0 & 0  \\\\\n",
       " 0 & 0 & 0 & 1  \\\\\n",
       " 1 & 0 & 0 & 0  \\\\\n",
       " \\end{bmatrix}\n",
       "$$"
      ],
      "text/plain": [
       "<IPython.core.display.Latex object>"
      ]
     },
     "metadata": {},
     "output_type": "display_data"
    },
    {
     "name": "stdout",
     "output_type": "stream",
     "text": [
      "\n",
      "permutation pad - Permutation number: 40, Depth of quantum circuit: 2\n"
     ]
    },
    {
     "data": {
      "image/png": "[encoded data removed]",
      "text/plain": [
       "<Figure size 287.496x451.5 with 1 Axes>"
      ]
     },
     "metadata": {},
     "output_type": "display_data"
    },
    {
     "name": "stdout",
     "output_type": "stream",
     "text": [
      "\n",
      "permutation_pad - permutation number: 40, dictionary:\n",
      "{0: '11', 1: '01', 2: '00', 3: '10'}\n",
      "permutation pad - Elapsed time: 0:00:03.313173\n",
      "\n",
      "permutation pad - Permutation number: 41, matrix: \n"
     ]
    },
    {
     "data": {
      "text/latex": [
       "$$\n",
       "\n",
       "\\begin{bmatrix}\n",
       "0 & 0 & 1 & 0  \\\\\n",
       " 0 & 0 & 0 & 1  \\\\\n",
       " 1 & 0 & 0 & 0  \\\\\n",
       " 0 & 1 & 0 & 0  \\\\\n",
       " \\end{bmatrix}\n",
       "$$"
      ],
      "text/plain": [
       "<IPython.core.display.Latex object>"
      ]
     },
     "metadata": {},
     "output_type": "display_data"
    },
    {
     "name": "stdout",
     "output_type": "stream",
     "text": [
      "\n",
      "permutation pad - Permutation number: 41, Depth of quantum circuit: 1\n"
     ]
    },
    {
     "data": {
      "image/png": "[encoded data removed]",
      "text/plain": [
       "<Figure size 287.496x451.5 with 1 Axes>"
      ]
     },
     "metadata": {},
     "output_type": "display_data"
    },
    {
     "name": "stdout",
     "output_type": "stream",
     "text": [
      "\n",
      "permutation_pad - permutation number: 41, dictionary:\n",
      "{0: '10', 1: '11', 2: '00', 3: '01'}\n",
      "permutation pad - Elapsed time: 0:00:03.373869\n",
      "\n",
      "permutation pad - Permutation number: 42, matrix: \n"
     ]
    },
    {
     "data": {
      "text/latex": [
       "$$\n",
       "\n",
       "\\begin{bmatrix}\n",
       "0 & 0 & 1 & 0  \\\\\n",
       " 0 & 1 & 0 & 0  \\\\\n",
       " 0 & 0 & 0 & 1  \\\\\n",
       " 1 & 0 & 0 & 0  \\\\\n",
       " \\end{bmatrix}\n",
       "$$"
      ],
      "text/plain": [
       "<IPython.core.display.Latex object>"
      ]
     },
     "metadata": {},
     "output_type": "display_data"
    },
    {
     "name": "stdout",
     "output_type": "stream",
     "text": [
      "\n",
      "permutation pad - Permutation number: 42, Depth of quantum circuit: 2\n"
     ]
    },
    {
     "data": {
      "image/png": "[encoded data removed]",
      "text/plain": [
       "<Figure size 287.496x451.5 with 1 Axes>"
      ]
     },
     "metadata": {},
     "output_type": "display_data"
    },
    {
     "name": "stdout",
     "output_type": "stream",
     "text": [
      "\n",
      "permutation_pad - permutation number: 42, dictionary:\n",
      "{0: '11', 1: '01', 2: '00', 3: '10'}\n",
      "permutation pad - Elapsed time: 0:00:03.433162\n",
      "\n",
      "permutation pad - Permutation number: 43, matrix: \n"
     ]
    },
    {
     "data": {
      "text/latex": [
       "$$\n",
       "\n",
       "\\begin{bmatrix}\n",
       "1 & 0 & 0 & 0  \\\\\n",
       " 0 & 1 & 0 & 0  \\\\\n",
       " 0 & 0 & 0 & 1  \\\\\n",
       " 0 & 0 & 1 & 0  \\\\\n",
       " \\end{bmatrix}\n",
       "$$"
      ],
      "text/plain": [
       "<IPython.core.display.Latex object>"
      ]
     },
     "metadata": {},
     "output_type": "display_data"
    },
    {
     "name": "stdout",
     "output_type": "stream",
     "text": [
      "\n",
      "permutation pad - Permutation number: 43, Depth of quantum circuit: 3\n"
     ]
    },
    {
     "data": {
      "image/png": "[encoded data removed]",
      "text/plain": [
       "<Figure size 371.107x451.5 with 1 Axes>"
      ]
     },
     "metadata": {},
     "output_type": "display_data"
    },
    {
     "name": "stdout",
     "output_type": "stream",
     "text": [
      "\n",
      "permutation_pad - permutation number: 43, dictionary:\n",
      "{0: '00', 1: '01', 2: '11', 3: '10'}\n",
      "permutation pad - Elapsed time: 0:00:03.494622\n",
      "\n",
      "permutation pad - Permutation number: 44, matrix: \n"
     ]
    },
    {
     "data": {
      "text/latex": [
       "$$\n",
       "\n",
       "\\begin{bmatrix}\n",
       "0 & 1 & 0 & 0  \\\\\n",
       " 0 & 0 & 0 & 1  \\\\\n",
       " 0 & 0 & 1 & 0  \\\\\n",
       " 1 & 0 & 0 & 0  \\\\\n",
       " \\end{bmatrix}\n",
       "$$"
      ],
      "text/plain": [
       "<IPython.core.display.Latex object>"
      ]
     },
     "metadata": {},
     "output_type": "display_data"
    },
    {
     "name": "stdout",
     "output_type": "stream",
     "text": [
      "\n",
      "permutation pad - Permutation number: 44, Depth of quantum circuit: 2\n"
     ]
    },
    {
     "data": {
      "image/png": "[encoded data removed]",
      "text/plain": [
       "<Figure size 287.496x451.5 with 1 Axes>"
      ]
     },
     "metadata": {},
     "output_type": "display_data"
    },
    {
     "name": "stdout",
     "output_type": "stream",
     "text": [
      "\n",
      "permutation_pad - permutation number: 44, dictionary:\n",
      "{0: '11', 1: '00', 2: '10', 3: '01'}\n",
      "permutation pad - Elapsed time: 0:00:03.555088\n",
      "\n",
      "permutation pad - Permutation number: 45, matrix: \n"
     ]
    },
    {
     "data": {
      "text/latex": [
       "$$\n",
       "\n",
       "\\begin{bmatrix}\n",
       "0 & 1 & 0 & 0  \\\\\n",
       " 0 & 0 & 1 & 0  \\\\\n",
       " 0 & 0 & 0 & 1  \\\\\n",
       " 1 & 0 & 0 & 0  \\\\\n",
       " \\end{bmatrix}\n",
       "$$"
      ],
      "text/plain": [
       "<IPython.core.display.Latex object>"
      ]
     },
     "metadata": {},
     "output_type": "display_data"
    },
    {
     "name": "stdout",
     "output_type": "stream",
     "text": [
      "\n",
      "permutation pad - Permutation number: 45, Depth of quantum circuit: 2\n"
     ]
    },
    {
     "data": {
      "image/png": "[encoded data removed]",
      "text/plain": [
       "<Figure size 287.496x451.5 with 1 Axes>"
      ]
     },
     "metadata": {},
     "output_type": "display_data"
    },
    {
     "name": "stdout",
     "output_type": "stream",
     "text": [
      "\n",
      "permutation_pad - permutation number: 45, dictionary:\n",
      "{0: '11', 1: '00', 2: '01', 3: '10'}\n",
      "permutation pad - Elapsed time: 0:00:03.617030\n",
      "\n",
      "permutation pad - Permutation number: 46, matrix: \n"
     ]
    },
    {
     "data": {
      "text/latex": [
       "$$\n",
       "\n",
       "\\begin{bmatrix}\n",
       "0 & 1 & 0 & 0  \\\\\n",
       " 1 & 0 & 0 & 0  \\\\\n",
       " 0 & 0 & 0 & 1  \\\\\n",
       " 0 & 0 & 1 & 0  \\\\\n",
       " \\end{bmatrix}\n",
       "$$"
      ],
      "text/plain": [
       "<IPython.core.display.Latex object>"
      ]
     },
     "metadata": {},
     "output_type": "display_data"
    },
    {
     "name": "stdout",
     "output_type": "stream",
     "text": [
      "\n",
      "permutation pad - Permutation number: 46, Depth of quantum circuit: 1\n"
     ]
    },
    {
     "data": {
      "image/png": "[encoded data removed]",
      "text/plain": [
       "<Figure size 203.885x451.5 with 1 Axes>"
      ]
     },
     "metadata": {},
     "output_type": "display_data"
    },
    {
     "name": "stdout",
     "output_type": "stream",
     "text": [
      "\n",
      "permutation_pad - permutation number: 46, dictionary:\n",
      "{0: '01', 1: '00', 2: '11', 3: '10'}\n",
      "permutation pad - Elapsed time: 0:00:03.681048\n",
      "\n",
      "permutation pad - Permutation number: 47, matrix: \n"
     ]
    },
    {
     "data": {
      "text/latex": [
       "$$\n",
       "\n",
       "\\begin{bmatrix}\n",
       "0 & 1 & 0 & 0  \\\\\n",
       " 0 & 0 & 0 & 1  \\\\\n",
       " 0 & 0 & 1 & 0  \\\\\n",
       " 1 & 0 & 0 & 0  \\\\\n",
       " \\end{bmatrix}\n",
       "$$"
      ],
      "text/plain": [
       "<IPython.core.display.Latex object>"
      ]
     },
     "metadata": {},
     "output_type": "display_data"
    },
    {
     "name": "stdout",
     "output_type": "stream",
     "text": [
      "\n",
      "permutation pad - Permutation number: 47, Depth of quantum circuit: 2\n"
     ]
    },
    {
     "data": {
      "image/png": "[encoded data removed]",
      "text/plain": [
       "<Figure size 287.496x451.5 with 1 Axes>"
      ]
     },
     "metadata": {},
     "output_type": "display_data"
    },
    {
     "name": "stdout",
     "output_type": "stream",
     "text": [
      "\n",
      "permutation_pad - permutation number: 47, dictionary:\n",
      "{0: '11', 1: '00', 2: '10', 3: '01'}\n",
      "permutation pad - Elapsed time: 0:00:03.743083\n",
      "\n",
      "permutation pad - Permutation number: 48, matrix: \n"
     ]
    },
    {
     "data": {
      "text/latex": [
       "$$\n",
       "\n",
       "\\begin{bmatrix}\n",
       "1 & 0 & 0 & 0  \\\\\n",
       " 0 & 1 & 0 & 0  \\\\\n",
       " 0 & 0 & 0 & 1  \\\\\n",
       " 0 & 0 & 1 & 0  \\\\\n",
       " \\end{bmatrix}\n",
       "$$"
      ],
      "text/plain": [
       "<IPython.core.display.Latex object>"
      ]
     },
     "metadata": {},
     "output_type": "display_data"
    },
    {
     "name": "stdout",
     "output_type": "stream",
     "text": [
      "\n",
      "permutation pad - Permutation number: 48, Depth of quantum circuit: 1\n"
     ]
    },
    {
     "data": {
      "image/png": "[encoded data removed]",
      "text/plain": [
       "<Figure size 203.885x451.5 with 1 Axes>"
      ]
     },
     "metadata": {},
     "output_type": "display_data"
    },
    {
     "name": "stdout",
     "output_type": "stream",
     "text": [
      "\n",
      "permutation_pad - permutation number: 48, dictionary:\n",
      "{0: '00', 1: '01', 2: '11', 3: '10'}\n",
      "permutation pad - Elapsed time: 0:00:03.799501\n",
      "\n",
      "permutation pad - Permutation number: 49, matrix: \n"
     ]
    },
    {
     "data": {
      "text/latex": [
       "$$\n",
       "\n",
       "\\begin{bmatrix}\n",
       "0 & 1 & 0 & 0  \\\\\n",
       " 0 & 0 & 0 & 1  \\\\\n",
       " 1 & 0 & 0 & 0  \\\\\n",
       " 0 & 0 & 1 & 0  \\\\\n",
       " \\end{bmatrix}\n",
       "$$"
      ],
      "text/plain": [
       "<IPython.core.display.Latex object>"
      ]
     },
     "metadata": {},
     "output_type": "display_data"
    },
    {
     "name": "stdout",
     "output_type": "stream",
     "text": [
      "\n",
      "permutation pad - Permutation number: 49, Depth of quantum circuit: 3\n"
     ]
    },
    {
     "data": {
      "image/png": "[encoded data removed]",
      "text/plain": [
       "<Figure size 371.107x451.5 with 1 Axes>"
      ]
     },
     "metadata": {},
     "output_type": "display_data"
    },
    {
     "name": "stdout",
     "output_type": "stream",
     "text": [
      "\n",
      "permutation_pad - permutation number: 49, dictionary:\n",
      "{0: '10', 1: '00', 2: '11', 3: '01'}\n",
      "permutation pad - Elapsed time: 0:00:03.865351\n",
      "\n",
      "permutation pad - Permutation number: 50, matrix: \n"
     ]
    },
    {
     "data": {
      "text/latex": [
       "$$\n",
       "\n",
       "\\begin{bmatrix}\n",
       "0 & 0 & 1 & 0  \\\\\n",
       " 0 & 1 & 0 & 0  \\\\\n",
       " 1 & 0 & 0 & 0  \\\\\n",
       " 0 & 0 & 0 & 1  \\\\\n",
       " \\end{bmatrix}\n",
       "$$"
      ],
      "text/plain": [
       "<IPython.core.display.Latex object>"
      ]
     },
     "metadata": {},
     "output_type": "display_data"
    },
    {
     "name": "stdout",
     "output_type": "stream",
     "text": [
      "\n",
      "permutation pad - Permutation number: 50, Depth of quantum circuit: 1\n"
     ]
    },
    {
     "data": {
      "image/png": "[encoded data removed]",
      "text/plain": [
       "<Figure size 203.885x451.5 with 1 Axes>"
      ]
     },
     "metadata": {},
     "output_type": "display_data"
    },
    {
     "name": "stdout",
     "output_type": "stream",
     "text": [
      "\n",
      "permutation_pad - permutation number: 50, dictionary:\n",
      "{0: '10', 1: '01', 2: '00', 3: '11'}\n",
      "permutation pad - Elapsed time: 0:00:03.921356\n",
      "\n",
      "permutation pad - Permutation number: 51, matrix: \n"
     ]
    },
    {
     "data": {
      "text/latex": [
       "$$\n",
       "\n",
       "\\begin{bmatrix}\n",
       "1 & 0 & 0 & 0  \\\\\n",
       " 0 & 0 & 1 & 0  \\\\\n",
       " 0 & 0 & 0 & 1  \\\\\n",
       " 0 & 1 & 0 & 0  \\\\\n",
       " \\end{bmatrix}\n",
       "$$"
      ],
      "text/plain": [
       "<IPython.core.display.Latex object>"
      ]
     },
     "metadata": {},
     "output_type": "display_data"
    },
    {
     "name": "stdout",
     "output_type": "stream",
     "text": [
      "\n",
      "permutation pad - Permutation number: 51, Depth of quantum circuit: 2\n"
     ]
    },
    {
     "data": {
      "image/png": "[encoded data removed]",
      "text/plain": [
       "<Figure size 287.496x451.5 with 1 Axes>"
      ]
     },
     "metadata": {},
     "output_type": "display_data"
    },
    {
     "name": "stdout",
     "output_type": "stream",
     "text": [
      "\n",
      "permutation_pad - permutation number: 51, dictionary:\n",
      "{0: '00', 1: '11', 2: '01', 3: '10'}\n",
      "permutation pad - Elapsed time: 0:00:03.987683\n",
      "\n",
      "permutation pad - Permutation number: 52, matrix: \n"
     ]
    },
    {
     "data": {
      "text/latex": [
       "$$\n",
       "\n",
       "\\begin{bmatrix}\n",
       "1 & 0 & 0 & 0  \\\\\n",
       " 0 & 1 & 0 & 0  \\\\\n",
       " 0 & 0 & 1 & 0  \\\\\n",
       " 0 & 0 & 0 & 1  \\\\\n",
       " \\end{bmatrix}\n",
       "$$"
      ],
      "text/plain": [
       "<IPython.core.display.Latex object>"
      ]
     },
     "metadata": {},
     "output_type": "display_data"
    },
    {
     "name": "stdout",
     "output_type": "stream",
     "text": [
      "\n",
      "permutation pad - Permutation number: 52, Depth of quantum circuit: 2\n"
     ]
    },
    {
     "data": {
      "image/png": "[encoded data removed]",
      "text/plain": [
       "<Figure size 287.496x451.5 with 1 Axes>"
      ]
     },
     "metadata": {},
     "output_type": "display_data"
    },
    {
     "name": "stdout",
     "output_type": "stream",
     "text": [
      "\n",
      "permutation_pad - permutation number: 52, dictionary:\n",
      "{0: '00', 1: '01', 2: '10', 3: '11'}\n",
      "permutation pad - Elapsed time: 0:00:04.050182\n",
      "\n",
      "permutation pad - Permutation number: 53, matrix: \n"
     ]
    },
    {
     "data": {
      "text/latex": [
       "$$\n",
       "\n",
       "\\begin{bmatrix}\n",
       "0 & 0 & 1 & 0  \\\\\n",
       " 0 & 0 & 0 & 1  \\\\\n",
       " 0 & 1 & 0 & 0  \\\\\n",
       " 1 & 0 & 0 & 0  \\\\\n",
       " \\end{bmatrix}\n",
       "$$"
      ],
      "text/plain": [
       "<IPython.core.display.Latex object>"
      ]
     },
     "metadata": {},
     "output_type": "display_data"
    },
    {
     "name": "stdout",
     "output_type": "stream",
     "text": [
      "\n",
      "permutation pad - Permutation number: 53, Depth of quantum circuit: 2\n"
     ]
    },
    {
     "data": {
      "image/png": "[encoded data removed]",
      "text/plain": [
       "<Figure size 371.107x451.5 with 1 Axes>"
      ]
     },
     "metadata": {},
     "output_type": "display_data"
    },
    {
     "name": "stdout",
     "output_type": "stream",
     "text": [
      "\n",
      "permutation_pad - permutation number: 53, dictionary:\n",
      "{0: '11', 1: '10', 2: '00', 3: '01'}\n",
      "permutation pad - Elapsed time: 0:00:04.119441\n",
      "\n",
      "permutation pad - Permutation number: 54, matrix: \n"
     ]
    },
    {
     "data": {
      "text/latex": [
       "$$\n",
       "\n",
       "\\begin{bmatrix}\n",
       "0 & 1 & 0 & 0  \\\\\n",
       " 0 & 0 & 1 & 0  \\\\\n",
       " 0 & 0 & 0 & 1  \\\\\n",
       " 1 & 0 & 0 & 0  \\\\\n",
       " \\end{bmatrix}\n",
       "$$"
      ],
      "text/plain": [
       "<IPython.core.display.Latex object>"
      ]
     },
     "metadata": {},
     "output_type": "display_data"
    },
    {
     "name": "stdout",
     "output_type": "stream",
     "text": [
      "\n",
      "permutation pad - Permutation number: 54, Depth of quantum circuit: 3\n"
     ]
    },
    {
     "data": {
      "image/png": "[encoded data removed]",
      "text/plain": [
       "<Figure size 371.107x451.5 with 1 Axes>"
      ]
     },
     "metadata": {},
     "output_type": "display_data"
    },
    {
     "name": "stdout",
     "output_type": "stream",
     "text": [
      "\n",
      "permutation_pad - permutation number: 54, dictionary:\n",
      "{0: '11', 1: '00', 2: '01', 3: '10'}\n",
      "permutation pad - Elapsed time: 0:00:04.186516\n",
      "\n",
      "permutation pad - Permutation number: 55, matrix: \n"
     ]
    },
    {
     "data": {
      "text/latex": [
       "$$\n",
       "\n",
       "\\begin{bmatrix}\n",
       "0 & 1 & 0 & 0  \\\\\n",
       " 0 & 0 & 0 & 1  \\\\\n",
       " 1 & 0 & 0 & 0  \\\\\n",
       " 0 & 0 & 1 & 0  \\\\\n",
       " \\end{bmatrix}\n",
       "$$"
      ],
      "text/plain": [
       "<IPython.core.display.Latex object>"
      ]
     },
     "metadata": {},
     "output_type": "display_data"
    },
    {
     "name": "stdout",
     "output_type": "stream",
     "text": [
      "\n",
      "permutation pad - Permutation number: 55, Depth of quantum circuit: 2\n"
     ]
    },
    {
     "data": {
      "image/png": "[encoded data removed]",
      "text/plain": [
       "<Figure size 371.107x451.5 with 1 Axes>"
      ]
     },
     "metadata": {},
     "output_type": "display_data"
    },
    {
     "name": "stdout",
     "output_type": "stream",
     "text": [
      "\n",
      "permutation_pad - permutation number: 55, dictionary:\n",
      "{0: '10', 1: '00', 2: '11', 3: '01'}\n",
      "permutation pad - Elapsed time: 0:00:04.251632\n",
      "permutation pad - Length of Permutation_Pad: 56\n",
      "\n",
      "decrypt - Length of ciphertext: 11483368\n",
      "decrypt - Remainder of dividing (Length of cipher chunks) by (Job trigger): 136994\n",
      "\n",
      "decrypt - x : 143709,  Permutation_Pad[32], State vector: 11, Most frequent: 01\n",
      "decrypt - Elapsed time for decryption: 0:00:00.022676\n",
      "decrypt - x : 287419,  Permutation_Pad[31], State vector: 01, Most frequent: 11\n",
      "decrypt - Elapsed time for decryption: 0:00:00.045166\n",
      "decrypt - x : 431129,  Permutation_Pad[21], State vector: 10, Most frequent: 11\n",
      "decrypt - Elapsed time for decryption: 0:00:00.067420\n",
      "decrypt - x : 574839,  Permutation_Pad[3], State vector: 11, Most frequent: 11\n",
      "decrypt - Elapsed time for decryption: 0:00:00.090152\n",
      "decrypt - x : 718549,  Permutation_Pad[18], State vector: 11, Most frequent: 11\n",
      "decrypt - Elapsed time for decryption: 0:00:00.113146\n",
      "decrypt - x : 862259,  Permutation_Pad[0], State vector: 10, Most frequent: 11\n",
      "decrypt - Elapsed time for decryption: 0:00:00.135756\n",
      "decrypt - x : 1005969,  Permutation_Pad[33], State vector: 10, Most frequent: 00\n",
      "decrypt - Elapsed time for decryption: 0:00:00.158171\n",
      "decrypt - x : 1149679,  Permutation_Pad[9], State vector: 10, Most frequent: 11\n",
      "decrypt - Elapsed time for decryption: 0:00:00.181899\n",
      "decrypt - x : 1293389,  Permutation_Pad[41], State vector: 00, Most frequent: 10\n",
      "decrypt - Elapsed time for decryption: 0:00:00.203737\n",
      "decrypt - x : 1437099,  Permutation_Pad[18], State vector: 10, Most frequent: 10\n",
      "decrypt - Elapsed time for decryption: 0:00:00.227382\n",
      "decrypt - x : 1580809,  Permutation_Pad[13], State vector: 10, Most frequent: 00\n",
      "decrypt - Elapsed time for decryption: 0:00:00.251001\n",
      "decrypt - x : 1724519,  Permutation_Pad[39], State vector: 11, Most frequent: 01\n",
      "decrypt - Elapsed time for decryption: 0:00:00.273616\n",
      "decrypt - x : 1868229,  Permutation_Pad[10], State vector: 01, Most frequent: 11\n",
      "decrypt - Elapsed time for decryption: 0:00:00.296256\n",
      "decrypt - x : 2011939,  Permutation_Pad[55], State vector: 01, Most frequent: 00\n",
      "decrypt - Elapsed time for decryption: 0:00:00.319332\n",
      "decrypt - x : 2155649,  Permutation_Pad[1], State vector: 01, Most frequent: 10\n",
      "decrypt - Elapsed time for decryption: 0:00:00.347045\n",
      "decrypt - x : 2299359,  Permutation_Pad[32], State vector: 00, Most frequent: 11\n",
      "decrypt - Elapsed time for decryption: 0:00:00.370647\n",
      "decrypt - x : 2443069,  Permutation_Pad[31], State vector: 11, Most frequent: 10\n",
      "decrypt - Elapsed time for decryption: 0:00:00.394168\n",
      "decrypt - x : 2586779,  Permutation_Pad[21], State vector: 11, Most frequent: 01\n",
      "decrypt - Elapsed time for decryption: 0:00:00.417582\n",
      "decrypt - x : 2730489,  Permutation_Pad[3], State vector: 01, Most frequent: 01\n",
      "decrypt - Elapsed time for decryption: 0:00:00.441395\n",
      "decrypt - x : 2874199,  Permutation_Pad[18], State vector: 10, Most frequent: 10\n",
      "decrypt - Elapsed time for decryption: 0:00:00.467373\n",
      "decrypt - x : 3017909,  Permutation_Pad[0], State vector: 01, Most frequent: 10\n",
      "decrypt - Elapsed time for decryption: 0:00:00.503723\n",
      "decrypt - x : 3161619,  Permutation_Pad[33], State vector: 01, Most frequent: 01\n",
      "decrypt - Elapsed time for decryption: 0:00:00.528702\n",
      "decrypt - x : 3305329,  Permutation_Pad[9], State vector: 10, Most frequent: 11\n",
      "decrypt - Elapsed time for decryption: 0:00:00.553068\n",
      "decrypt - x : 3449039,  Permutation_Pad[41], State vector: 00, Most frequent: 10\n",
      "decrypt - Elapsed time for decryption: 0:00:00.577014\n",
      "decrypt - x : 3592749,  Permutation_Pad[18], State vector: 11, Most frequent: 11\n",
      "decrypt - Elapsed time for decryption: 0:00:00.601563\n",
      "decrypt - x : 3736459,  Permutation_Pad[13], State vector: 01, Most frequent: 01\n",
      "decrypt - Elapsed time for decryption: 0:00:00.625580\n",
      "decrypt - x : 3880169,  Permutation_Pad[39], State vector: 01, Most frequent: 10\n",
      "decrypt - Elapsed time for decryption: 0:00:00.649700\n",
      "decrypt - x : 4023879,  Permutation_Pad[10], State vector: 01, Most frequent: 11\n",
      "decrypt - Elapsed time for decryption: 0:00:00.674992\n",
      "decrypt - x : 4167589,  Permutation_Pad[55], State vector: 11, Most frequent: 01\n",
      "decrypt - Elapsed time for decryption: 0:00:00.699353\n",
      "decrypt - x : 4311299,  Permutation_Pad[1], State vector: 10, Most frequent: 00\n",
      "decrypt - Elapsed time for decryption: 0:00:00.722631\n",
      "decrypt - x : 4455009,  Permutation_Pad[32], State vector: 00, Most frequent: 11\n",
      "decrypt - Elapsed time for decryption: 0:00:00.746503\n",
      "decrypt - x : 4598719,  Permutation_Pad[31], State vector: 00, Most frequent: 01\n",
      "decrypt - Elapsed time for decryption: 0:00:00.769826\n",
      "decrypt - x : 4742429,  Permutation_Pad[21], State vector: 00, Most frequent: 00\n",
      "decrypt - Elapsed time for decryption: 0:00:00.793425\n",
      "decrypt - x : 4886139,  Permutation_Pad[3], State vector: 11, Most frequent: 11\n",
      "decrypt - Elapsed time for decryption: 0:00:00.816770\n",
      "decrypt - x : 5029849,  Permutation_Pad[18], State vector: 01, Most frequent: 00\n",
      "decrypt - Elapsed time for decryption: 0:00:00.840814\n",
      "decrypt - x : 5173559,  Permutation_Pad[0], State vector: 10, Most frequent: 11\n",
      "decrypt - Elapsed time for decryption: 0:00:00.863854\n",
      "decrypt - x : 5317269,  Permutation_Pad[33], State vector: 00, Most frequent: 11\n",
      "decrypt - Elapsed time for decryption: 0:00:00.887684\n",
      "decrypt - x : 5460979,  Permutation_Pad[9], State vector: 11, Most frequent: 01\n",
      "decrypt - Elapsed time for decryption: 0:00:00.910340\n",
      "decrypt - x : 5604689,  Permutation_Pad[41], State vector: 11, Most frequent: 01\n",
      "decrypt - Elapsed time for decryption: 0:00:00.933817\n",
      "\n",
      "decrypt - Length of decrypted message in bits: 11483368\n",
      "\n",
      "decrypt - Elapsed time for decryption of ciphertext: 0:00:02.738429\n",
      "\n",
      "bitstring_to_file - decrypted message in bytes trimmed to true length: 1435421\n",
      "\n",
      "\u001b[1mDo a File Save of this notebook\u001b[0m\n",
      "\n"
     ]
    }
   ],
   "source": [
    "%run QPP_Bob.py"
   ]
  },
  {
   "cell_type": "markdown",
   "id": "1665970f-873d-467e-9528-3f27f7884103",
   "metadata": {},
   "source": [
    "# References\n",
    "\n",
    "[1] Kuang, Randy. Quantum Permutation Pad for Quantum Secure Symmetric and Asymmetric Cryptography. Vol. 2, no. 1, Academia Quantum, 2025. https://doi.org/10.20935/AcadQuant7457 \n",
    "\n",
    "[2] I. Burge, M. T. Mai and M. Barbeau, \"A Permutation Dispatch Circuit Design for Quantum Permutation Pad Symmetric Encryption,\" 2024 13th International Conference on Communications, Circuits and Systems (ICCCAS), Xiamen, China, 2024, pp. 35-40, doi: 10.1109/ICCCAS62034.2024.10652827.\n",
    "\n",
    "[3] Chancé, A. (2024). Quantum Permutation Pad with Qiskit Runtime. In: Femmam, S., Lorenz, P. (eds) Recent Advances in Communication Networks and Embedded Systems. ICCNT 2022. Lecture Notes on Data Engineering and Communications Technologies, vol 205. Springer, Cham. https://doi.org/10.1007/978-3-031-59619-3_12 \n",
    "\n",
    "[4] Kuang, R., Barbeau, M. Quantum permutation pad for universal quantum-safe cryptography. Quantum Inf Process 21, 211 (2022). https://doi.org/10.1007/s11128-022-03557-y\n",
    "\n",
    "[5] R. Kuang and N. Bettenburg, 'Shannon perfect secrecy in a discrete Hilbert space', in Proc. IEEE Int. Conf. Quantum Comput. Eng. (QCE), Oct. 2020, pp. 249-255, doi: 10.1109/QCE49297.2020.00039\n",
    "\n",
    "[6] Kuang, R., Perepechaenko, M. Quantum encryption with quantum permutation pad in IBMQ systems. EPJ Quantum Technol. 9, 26 (2022). https://doi.org/10.1140/epjqt/s40507-022-00145-y\n",
    "\n",
    "[7] Qiskit Runtime overview, IBM Quantum, https://cloud.ibm.com/docs/quantum-computing?topic=quantum-computing-overview\n",
    "\n",
    "[8] QiskitRuntimeService, https://docs.quantum.ibm.com/api/qiskit-ibm-runtime/qiskit_ibm_runtime.QiskitRuntimeService#qiskitruntimeservice\n",
    "\n",
    "[9] Qiskit v2.0 migration guide, https://docs.quantum.ibm.com/migration-guides/qiskit-2.0\n",
    "\n",
    "[10] Qiskit Aer documentation, https://qiskit.github.io/qiskit-aer/\n",
    "\n",
    "[11] Qiskit Aer 0.16.1, Getting started, https://qiskit.github.io/qiskit-aer/getting_started.html\n",
    "\n",
    "[12] Qiskit Aer 0.16.1, Simulators, https://qiskit.github.io/qiskit-aer/tutorials/1_aersimulator.html\n",
    "\n",
    "[13] Migrate from cloud simulators to local simulators, https://docs.quantum.ibm.com/migration-guides/local-simulators#aersimulator"
   ]
  },
  {
   "cell_type": "markdown",
   "id": "8965e7c7-aa9c-4c5f-afe2-52d774a7b533",
   "metadata": {},
   "source": [
    "# Summary of updates V6\n",
    "This version has been updated to work with the [upgraded IBM Quantum Platform](https://quantum.cloud.ibm.com/). \n",
    "\n",
    "## Updates in module write_json.py\n",
    "\n",
    "New field \"CRN_file\": \"CRN.txt\"\n",
    "\n",
    "## Updates in class QPP\n",
    "\n",
    "### Updates in init function\n",
    "```\n",
    "        # Initialize service, backend and options to None\n",
    "        service = None\n",
    "        backend = None\n",
    "        options = None\n",
    "        \n",
    "        if os.path.isfile(token_file):\n",
    "            f = open(token_file, \"r\") \n",
    "            token = f.read() # Read token from token_file\n",
    "            print(\"Token read from file: \", token_file)\n",
    "            f.close()\n",
    "\n",
    "            if os.path.isfile(CRN_file):\n",
    "                f = open(CRN_file, \"r\") \n",
    "                crn = f.read() # Read CRN code from token_file\n",
    "                print(\"CRN code read from file: \", CRN_file)\n",
    "                f.close()\n",
    "                \n",
    "                # Save the Qiskit Runtime account credentials\n",
    "                QiskitRuntimeService.save_account(channel=\"ibm_cloud\", token=token, instance=crn, set_as_default=True, overwrite=True)\n",
    "\n",
    "                # Open Plan users cannot submit session jobs. Workloads must be run in job mode or batch mode.\n",
    "                # https://quantum.cloud.ibm.com/docs/en/guides/run-jobs-session\n",
    "\n",
    "        #-------------------------------------------------------------------------------------------\n",
    "        # Instantiate the service\n",
    "        # Once the account is saved on disk, you can instantiate the service without any arguments:\n",
    "        # https://docs.quantum.ibm.com/api/migration-guides/qiskit-runtime\n",
    "        #-------------------------------------------------------------------------------------------\n",
    "        try:\n",
    "            service = QiskitRuntimeService()\n",
    "        except:\n",
    "            service = None\n",
    "```\n"
   ]
  },
  {
   "cell_type": "markdown",
   "id": "02465df9-961c-457b-b588-3b9d57c43980",
   "metadata": {
    "jp-MarkdownHeadingCollapsed": true
   },
   "source": [
    "# Summary of updates V5\n",
    "This version V5 features communications using JSON-RPC 2.0 over HTTP.\n",
    "\n",
    "First run Bob_agent.ipynb which starts a receiver agent which functions as a uvicorn server and receives a file using:\n",
    "* 🛰️ FastAPI on the server (Remote Agent)\n",
    "* 📡 requests module on the client\n",
    "* 📦 File content encoded in Base64\n",
    "* 🌐 JSON-RPC 2.0 over HTTP\n",
    "\n",
    "Then run QPP_Alice.ipynb which does the following:\n",
    "\n",
    "1/ Prompt:\n",
    "- Enter plaintext filename (.txt or .png or .jpg)\n",
    "- Enter number of qubits between 2 and 9\n",
    "- Enter version 0 (n qubits) or 1 (2**n qubits which only uses swap gates)\n",
    "- Enter trace level 0 or 1\n",
    "- Enter 0 for classical simulation or 1 for running on a real QPU or a simulation with AerSimulator\n",
    "- Enter IBM cloud backend name or 'None' to assign least busy device to backend or 'AerSimulator noiseless'\n",
    "- Enter maximum number of permutations in pad between 0 (no maximum) and 56 (only shown if a backend name of a real QPU is provided).\n",
    "\n",
    "2/ Encrypt a text or an image file and sends three files to Bob receiver agent with the send_file method using:\n",
    "* 📡 requests module\n",
    "* 📦 File content encoded in Base64\n",
    "* 🌐 JSON-RPC 2.0 over HTTP\n",
    "\n",
    "3/ Print in bold: \"Do a File Save of this notebook\" and then:\n",
    "- Prompt: Do you want to save the content of the Alice directory? (y/n)\n",
    "- If the answer is \"y\" then copy the Alice directory into a new one whose name is printed. \n",
    "\n",
    "Finally, run QPP_Bob.ipynb which does the following: \n",
    "- Decrypt the text or the image file received from Alice using the Json parameter file and the secret key file.\n",
    "- Print in bold \"Do a File Save of this notebook\" and then:\n",
    "- Prompt: Do you want to save the content of the Bob directory? (y/n)\n",
    "- If the answer is \"y\" then copy the Bob directory into a new one whose name is printed. \n",
    "\n",
    "## Documentation\n",
    "\n",
    "uvicorn, https://www.uvicorn.org/\n",
    "\n",
    "FastAPI is a modern, fast (high-performance), web framework for building APIs with Python based on standard Python type hints.\n",
    "https://fastapi.tiangolo.com/\n",
    "\n",
    "A2A leverages JSON-RPC 2.0 as the data exchange format for communication between a Client and a Remote Agent.\n",
    "https://google.github.io/A2A/#/documentation?id=agent-to-agent-communication\n",
    "\n",
    "JSON-RPC 2.0 Specification, https://www.jsonrpc.org/specification\n",
    "\n",
    "Welcome to jsonrpcserver’s documentation!\n",
    "https://www.jsonrpcserver.com/en/stable/examples.html#fastapi\n",
    "\n",
    "## Updates in import statements\n",
    "```\n",
    "#-----------------------------------------------------------------------------------------\n",
    "# If the code is running in an IPython terminal, then from IPython.display import display\n",
    "# else if it is running in a plain Python shell or script: \n",
    "# we assign display = print and array_to_latex = identity\n",
    "#-----------------------------------------------------------------------------------------\n",
    "try:\n",
    "    shell = get_ipython().__class__.__name__\n",
    "except NameError:\n",
    "    shell = None\n",
    "\n",
    "if shell == 'TerminalInteractiveShell':\n",
    "    # The code is running in an IPython terminal\n",
    "    from IPython.display import display\n",
    "    \n",
    "elif shell == None:\n",
    "    # The code is running in a plain Python shell or script: \n",
    "    # we assign display = print and array_to_latex = identity\n",
    "    display = print\n",
    "    array_to_latex = lambda x: x\n",
    "```\n",
    "\n",
    "## Updates in code\n",
    "In class QPP\n",
    "\n",
    "### Updates in init function\n",
    "Added a new argument version\n",
    "```\n",
    "class QPP:\n",
    "    def __init__(self, QPP_param_file = \"QPP_param\", version=None):\n",
    "```\n",
    "\n",
    "Set version as follows:\n",
    "```\n",
    "if version == \"V0\" or version == \"V1\":\n",
    "            # Save version\n",
    "            self.json_param['version'] = version\n",
    "\n",
    "            if trace > 0:\n",
    "                print(\"\\nVersion set to: {}\".format(version))\n",
    "                print(\"\\nVersion set to: {}\".format(version), file=trace_f)\n",
    "        else:\n",
    "            version = json_param['version'] # Version of the quantum circuit used to simulate a permutation operation\n",
    "```\n",
    "\n",
    "New\n",
    "```\n",
    "        # Initialize Permutation_Pad and perm_dict\n",
    "        self.Permutation_Pad = []\n",
    "        self.perm_dict = []\n",
    "```\n",
    "\n",
    "### Updates in permutation_pad() function\n",
    "Previously:\n",
    "```\n",
    "        Permutation_Pad = None\n",
    "        perm_dict = None\n",
    "```\n",
    "New:\n",
    "```\n",
    "        if self.Permutation_Pad != [] and self.perm_dict != []:\n",
    "            print(\"permutation_pad: using saved Permutation pad and corresponding permutation dictionary\")\n",
    "            return self.Permutation_Pad, self.perm_dict\n",
    "        \n",
    "        if secret_key_blocks == None:\n",
    "            print(\"permutation_pad: missing parameter secret_key_blocks\")\n",
    "            return self.Permutation_Pad, self.perm_dict\n",
    "        \n",
    "        if self.param == None:\n",
    "            print(\"permutation_pad: missing param\")\n",
    "            return self.Permutation_Pad, self.perm_dict\n",
    "```\n",
    "\n",
    "Previously\n",
    "```\n",
    "        return Permutation_Pad, perm_dict\n",
    "```\n",
    "\n",
    "New\n",
    "```\n",
    "        return self.Permutation_Pad, self.perm_dict\n",
    "```\n",
    "\n",
    "### Updates in file_to_bitstring() function\n",
    "\n",
    "Previously\n",
    "```\n",
    "        if plaintext_file[-3:] == \"png\":\n",
    "            if trace > 0:\n",
    "                print(\"file_to_bitstring - Plaintext file {} is an image saved in the Portable Network Graphic (PNG) format\".\n",
    "                      format(plaintext_file), file=trace_f)\n",
    "    \n",
    "            # Read image from image file\n",
    "            from PIL import Image\n",
    "            from io import BytesIO\n",
    "            out = BytesIO()\n",
    "            with Image.open(plaintext_file) as img:\n",
    "                img.save(out, format=\"png\")\n",
    "```\n",
    "New\n",
    "```\n",
    "        fmt = plaintext_file[-3:]\n",
    "        if fmt == \"png\" or fmt == \"jpg\":\n",
    "            if trace > 0:\n",
    "                print(\"file_to_bitstring - Plaintext file {} is an image\".\n",
    "                      format(plaintext_file), file=trace_f)\n",
    "            if fmt == \"jpg\":\n",
    "                fmt = \"jpeg\"\n",
    "            \n",
    "            # Read image from image file\n",
    "            from PIL import Image\n",
    "            from io import BytesIO\n",
    "            out = BytesIO()\n",
    "            with Image.open(plaintext_file) as img:\n",
    "                img.save(out, format=fmt)\n",
    "```\n",
    "### Updates in bitstring_to_file() function\n",
    "Previously\n",
    "```\n",
    "if decrypted_file[-3:] == \"png\":\n",
    "```\n",
    "New\n",
    "```\n",
    "if decrypted_file[-3:] == \"png\" or decrypted_file[-3:] == \"jpg\":\n",
    "```"
   ]
  },
  {
   "cell_type": "markdown",
   "id": "c2ca53c0-977a-413e-aeda-bd5c8c1c30c8",
   "metadata": {},
   "source": [
    "# Summary of updates V4\n",
    "This Jupyter notebook has been updated to work with Python 3.12 and the following Qiskit versions:\n",
    "- Qiskit v1.3, Qiskit runtime version: 0.34, Qiskit Aer 0.16\n",
    "- Qiskit v2.0, Qiskit runtime version: 0.37, Qiskit Aer 0.17\n",
    "\n",
    "Please refer to the following documentation:\n",
    "- Qiskit v2.0 migration guide, https://docs.quantum.ibm.com/migration-guides/qiskit-2.0\n",
    "- Qiskit Aer documentation, https://qiskit.github.io/qiskit-aer/\n",
    "- Qiskit Aer 0.16.1, Getting started, https://qiskit.github.io/qiskit-aer/getting_started.html\n",
    "- Qiskit Aer 0.16.1, Simulators, https://qiskit.github.io/qiskit-aer/tutorials/1_aersimulator.html\n",
    "\n",
    "## Updates in code\n",
    "In class QPP\n",
    "\n",
    "### Updates in init function\n",
    "\n",
    "Removed \"U0\" in basis_gates to solve the following issue:\n",
    "\n",
    "Providing non-standard gates (u0) through the ``basis_gates`` argument is not allowed. Use the ``target`` parameter instead.\n",
    "You can build a target instance using ``Target.from_configuration()`` and provide custom gate definitions with the ``custom_name_mapping`` argument.\n",
    "```\n",
    "basis_gates=[\"u3\",\"u2\",\"u1\",\"cx\",\"id\",\"u\",\"p\",\"x\",\"y\",\"z\",\"h\",\"s\",\n",
    "                 \"sdg\",\"t\",\"tdg\",\"rx\",\"ry\",\"rz\",\"sx\",\"sxdg\",\"cz\",\"cy\",\"swap\",\n",
    "                \"ch\",\"ccx\",\"cswap\",\"crx\",\"cry\",\"crz\",\"cu1\",\"cp\",\"cu3\",\"csx\",\n",
    "                \"cu\",\"rxx\",\"rzz\"]\n",
    "```\n",
    "New\n",
    "```\n",
    "        if os.path.isfile(token_file):\n",
    "            f = open(token_file, \"r\") \n",
    "            token = f.read() # Read token from token_file\n",
    "            print(\"Token read from file: \", token_file)\n",
    "            f.close()\n",
    "                \n",
    "            # Save the Qiskit Runtime account credentials\n",
    "            QiskitRuntimeService.save_account(channel='ibm_quantum', token=token, overwrite=True)\n",
    "\n",
    "            # https://docs.quantum.ibm.com/api/migration-guides/qiskit-runtime\n",
    "            service = QiskitRuntimeService(channel='ibm_quantum')\n",
    "\n",
    "            # Assign least busy device to backend\n",
    "            self.backend = service.least_busy(min_num_qubits=num_of_qubits, simulator=False, operational=True)\n",
    "\n",
    "            # Print the least busy device\n",
    "            print(\"\\nThe least busy device: {}\".format(self.backend), file=trace_f)\n",
    "            print(\"\\nThe least busy device: {}\".format(self.backend))\n",
    "\n",
    "            # Open Plan users cannot submit session jobs. Workloads must be run in job mode or batch mode.\n",
    "            # https://quantum.cloud.ibm.com/docs/en/guides/run-jobs-session\n",
    "\n",
    "        else:\n",
    "            # Use AerSimulator(method='statevector')\n",
    "            # https://docs.quantum.ibm.com/migration-guides/local-simulators#aersimulator\n",
    "            self.backend = AerSimulator(method='statevector')\n",
    "            if trace > 0:\n",
    "                print(\"\\nbackend = AerSimulator(method='statevector')\", file=trace_f)\n",
    "                print(\"\\nbackend = AerSimulator(method='statevector')\")\n",
    "\n",
    "            self.sampler = StatevectorSampler()\n",
    "        \n",
    "        # https://docs.quantum.ibm.com/migration-guides/local-simulators#aersimulator\n",
    "        self.pm = generate_preset_pass_manager(backend=self.backend, optimization_level=opt_level)\n",
    "```\n",
    "### Updates in permutation_pad() function\n",
    "New\n",
    "```\n",
    "        if do_sampler:\n",
    "            if isinstance(self.backend, AerSimulator):\n",
    "            # Create a session constructor using Qiskit Runtime Session()\n",
    "            # https://docs.quantum.ibm.com/migration-guides/local-simulators#aersimulator\n",
    "                with Session(backend=self.backend) as session:\n",
    "                    sampler = self.sampler\n",
    "                    self.my_sampler(secret_key_blocks, transpose=transpose)\n",
    "            else:\n",
    "                # Open a Batch\n",
    "                # https://quantum.cloud.ibm.com/docs/en/guides/run-jobs-batch#open-a-batch\n",
    "                batch = Batch(backend=self.backend)\n",
    "                with Batch(backend=self.backend):\n",
    "                    self.sampler = Sampler(mode=batch)\n",
    "                    sampler = self.sampler\n",
    "                    self.my_sampler(secret_key_blocks, transpose=transpose)\n",
    "```\n",
    "### New function my_sampler()\n",
    "\n",
    "# Summary of updates V3\n",
    "Summary of updates V3\n",
    "This jupyter notebook has been updated to work with Qiskit 1.3.1 \n",
    "\n",
    "## Updates in Install statements\n",
    "Previously\n",
    "```\n",
    "from qiskit.primitives import Sampler\n",
    "```\n",
    "New\n",
    "```\n",
    "from qiskit.primitives import StatevectorSampler\n",
    "```\n",
    "\n",
    "## Updates in code\n",
    "In class QPP\n",
    "\n",
    "Commented out the options:\n",
    "```\n",
    " #options = Options(resilience_level=resilience_level)\n",
    "```\n",
    "\n",
    "Previously\n",
    "```\n",
    "sampler = Sampler()\n",
    "```\n",
    "New\n",
    "```\n",
    "sampler = StatevectorSampler()\n",
    "```\n",
    " \n",
    " Updated the with Sesssion according to the example given in the Session documentation:\n",
    " https://docs.quantum.ibm.com/api/qiskit-ibm-runtime/qiskit_ibm_runtime.Session\n",
    "```\n",
    " with Session(backend=backend) as session:\n",
    "```"
   ]
  },
  {
   "cell_type": "markdown",
   "id": "dbac27bb-6ff7-4c47-8455-1667afe2834b",
   "metadata": {},
   "source": [
    "# Summary of updates V2\n",
    "This jupyter notebook has been updated to work with Qiskit 1.0.2. \n",
    "\n",
    "Please refer to the following documentation:\n",
    "- Qiskit 1.0 feature changes, https://docs.quantum.ibm.com/api/migration-guides/qiskit-1.0-features#qiskit-10-feature-changes\n",
    "- Qiskit 1.0 migration tool, https://docs.quantum.ibm.com/api/migration-guides/qiskit-1.0-features#qiskit-10-migration-tool\n",
    "- Qiskit Aer 0.14.0.1, Getting started, https://qiskit.github.io/qiskit-aer/getting_started.html\n",
    "- Migrate setup from qiskit-ibmq-provider, https://docs.quantum.ibm.com/api/migration-guides/qiskit-runtime#migrate-setup-from-qiskit-ibmq-provider\n",
    "- Simulators, The AerSimulator, https://qiskit.github.io/qiskit-aer/tutorials/1_aersimulator.html\n",
    "\n",
    "## Updates in install statements\n",
    "### Install qiskit.aer\n",
    "New\n",
    "```\n",
    "https://qiskit.github.io/qiskit-aer/getting_started.html\n",
    "pip install qiskit_aer\n",
    "```\n",
    "## Updates in import statements\n",
    "### Import qiskit.aer\n",
    "Additional circuit methods. On import, Aer adds several simulation-specific methods to QuantumCircuit for convenience. These methods are not available until Aer is imported (import qiskit_aer). https://qiskit.github.io/qiskit-aer/apidocs/circuit.html\n",
    "New\n",
    "```\n",
    "import qiskit_aer\n",
    "```\n",
    "### Import AerSimulator\n",
    "New\n",
    "```\n",
    "from qiskit_aer import AerSimulator\n",
    "```\n",
    "### Migrate setup from qiskit-ibmq-provider\n",
    "Previously\n",
    "```\n",
    "from qiskit import IBMQ\n",
    "```\n",
    "New\n",
    "```\n",
    "from qiskit_ibm_runtime import QiskitRuntimeService\n",
    "```\n",
    "## Updates in code\n",
    "New\n",
    "```\n",
    "self.aer_sim = AerSimulator(method='statevector')\n",
    "```\n",
    "### Updates in permutation_pad() function\n",
    "Previously\n",
    "```\n",
    "for i in range(2**num_of_qubits):\n",
    "    ...\n",
    "    # Append qci to the list perm_qc\n",
    "    perm_qc.append(qci)\n",
    "\n",
    "# Submit a job with all quantum circuits in perm_qc\n",
    "job = sampler.run(circuits=perm_qc)\n",
    "result = job.result()\n",
    "```\n",
    "New\n",
    "```\n",
    "qci = transpile(qci, self.aer_sim)\n",
    "job = self.aer_sim.run(qci, shots=1024)\n",
    "result = job.result()\n",
    "counts = result.get_counts(qci)\n",
    "                            \n",
    "if version == \"V0\":\n",
    "    # Get dictionary key with the max value\n",
    "    maxkey = max(counts, key=counts.get)\n",
    "    most_frequent = maxkey\n",
    "    pdict[i] = most_frequent\n",
    "                            \n",
    "    if trace > 1:\n",
    "        print(\"permutation_pad - k: {}, most_frequent: {}\".format(k, most_frequent))\n",
    "                            \n",
    "else:  # Version V1\n",
    "    # Get dictionary key with the max value\n",
    "    maxkey = max(counts, key=counts.get)\n",
    "    ix = n - maxkey.index('1') - 1\n",
    "    most_frequent = eval(\"format(ix, '0\" + str(num_of_qubits) + \"b')\")\n",
    "    pdict[i] = most_frequent\n",
    "    \n",
    "    if trace > 1:\n",
    "        print(\"permutation_pad - k: {}, maxkey: {}, string: {}, ix: {}, most_frequent: {}\".\n",
    "        format(k, maxkey, string, ix, most_frequent))\n",
    "```"
   ]
  },
  {
   "cell_type": "markdown",
   "id": "afd3bf4e-89df-49e8-90f6-13fc0949b901",
   "metadata": {},
   "source": [
    "# Summary of updates V1\n",
    "Please refer to the following documentation:\n",
    "\n",
    "[3] Introducing new Qiskit Runtime capabilities — and how our clients are integrating them into their use, https://research.ibm.com/blog/qiskit-runtime-capabilities-integration\n",
    "\n",
    "[4] Qiskit Runtime IBM Client, https://github.com/Qiskit/qiskit-ibm-runtime\n",
    "\n",
    "[5] Qiskit IBM runtime, Configure error mitigation, Advanced resilience options, https://github.com/Qiskit/qiskit-ibm-runtime/blob/ab7486d6837652d54cb60b83cfaa9165f5d0484c/docs/how_to/error-mitigation.rst#advanced-resilience-options\n",
    "\n",
    "### New class QPP\n",
    "```\n",
    "class QPP:\n",
    "    def __init__(self, QPP_param_file = \"QPP_param.json\"):\n",
    "```\n",
    "\n",
    "### New import statements\n",
    "\n",
    "#### Import array_to_latex to display matrices using laTeX\n",
    "```\n",
    "from qiskit.visualization import array_to_latex\n",
    "```\n",
    "\n",
    "#### Import time, datetime\n",
    "```\n",
    "import time, datetime\n",
    "```\n",
    "\n",
    "#### Import psutil\n",
    "```\n",
    "import psutil\n",
    "```\n",
    "\n",
    "#### Import the JSON package\n",
    "```\n",
    "import json\n",
    "```\n",
    "\n",
    "#### Import Bitstream, BitArray https://bitstring.readthedocs.io/en/stable/\n",
    "```\n",
    "from bitstring import BitStream, BitArray\n",
    "```\n",
    "\n",
    "#### Import QiskitRuntimeService, Session, Options and Sampler\n",
    "```\n",
    "from qiskit_ibm_runtime import QiskitRuntimeService, Session, Options\n",
    "\n",
    "# Uncomment the following import to import the Qiskit Runtime Sampler\n",
    "#from qiskit_ibm_runtime import Sampler\n",
    "\n",
    "# This version uses the localized version of the `Sampler` which resides in Qiskit Terra [7][8]\n",
    "# and uses the statevector simulator to compute probabilities\n",
    "# probabilities = [\n",
    "#       Statevector(bound_circuit_to_instruction(circ)).probabilities(qargs=qargs)\n",
    "#      for circ, qargs in zip(bound_circuits, qargs_list)]\n",
    "from qiskit.primitives import Sampler\n",
    "```\n",
    "\n",
    "### New method rand_key() to create a random binary string\n",
    "```\n",
    "# Function to create a random binary string\n",
    "# https://www.geeksforgeeks.org/python-program-to-generate-random-binary-string/\n",
    "    def rand_key(self, p):\n",
    "   \n",
    "        # Variable to store the string\n",
    "        key1 = \"\"\n",
    " \n",
    "        # Loop to find the string of desired length\n",
    "        for i in range(p):\n",
    "         \n",
    "            # randint function to generate 0, 1 randomly and converting the result into str\n",
    "            temp = str(randint(0, 1))\n",
    " \n",
    "            # Concatenation the random 0, 1 to the final result\n",
    "            key1 += temp\n",
    "    \n",
    "        return(key1)\n",
    "```\n",
    "\n",
    "### New method randomize() with added new parameters key_chunks, qc, qr, num_of_perm, transpose\n",
    "```\n",
    "    ##############################################################################################################\n",
    "    # Define randomize() function to perform Fisher Yates shuffling                                              #\n",
    "    # The Fisher–Yates shuffle is an algorithm for generating a random permutation of a finite sequence [5].     #\n",
    "    ##############################################################################################################\n",
    "    def randomize(self, arr, n, key_chunks, qc, qr, num_of_perm, transpose=False):\n",
    "```\n",
    "\n",
    "### New method permutation_pad() sets up a permutation quantum circuit and transpose\n",
    "```\n",
    "    ##############################################################################################################\n",
    "    # Define permutation_pad() function                                                                          #\n",
    "    # The Fisher–Yates shuffle is an algorithm for generating a random permutation of a finite sequence [5].     #\n",
    "    ##############################################################################################################\n",
    "    def permutation_pad(self, secret_key_blocks, transpose=False):\n",
    "```\n",
    "\n",
    "### New method encrypt() to encrypt a message leverages Qiskit Runtime primitives\n",
    "```\n",
    "    ##############################################################################################################\n",
    "    # Define the function encrypt() to encrypt a message                                                         #\n",
    "    ##############################################################################################################\n",
    "    def encrypt(self, message=None):\n",
    "```\n",
    "\n",
    "### New method decrypt() to decrypt a ciphertext leverages Qiskit Runtime primitives\n",
    "```\n",
    "    ##############################################################################################################\n",
    "    # Define the function decrypt() to decrypt a message                                                         #\n",
    "    ##############################################################################################################\n",
    "     def decrypt(self, ciphertext=None):\n",
    "```\n",
    "\n",
    "### New method file_to_bitstring() to convert plaintext file into a bitstring message\n",
    "```\n",
    "    ###############################################################################################################\n",
    "    # Define function file_to_bitstring() to convert plaintext file into a bitstring message                      #\n",
    "    ###############################################################################################################\n",
    "    def file_to_bitstring(self):\n",
    "```\n",
    "\n",
    "### New method ciphertext_to_binary() to convert ciphertext into binary and save it into a binary file\n",
    "```\n",
    "    ###############################################################################################################\n",
    "    # Define function ciphertext_to_binary() to convert ciphertext into binary and save it into a binary file     #\n",
    "    ###############################################################################################################\n",
    "    def ciphertext_to_binary(self, ciphertext=None):\n",
    "```\n",
    "\n",
    "### New method bitstring_to_file() to convert a decrypted message and save it into a decrypted file\n",
    "```\n",
    "    ###############################################################################################################\n",
    "    # Define function bitstring_to_file() to convert a decrypted message and save it into a decrypted file        #\n",
    "    ###############################################################################################################\n",
    "    def bitstring_to_file(self, decrypted_message=None):\n",
    "```"
   ]
  },
  {
   "cell_type": "markdown",
   "id": "2dbcc97c-a1df-4b72-8e19-2b4ac84f107e",
   "metadata": {},
   "source": [
    "## Print Qiskit version"
   ]
  },
  {
   "cell_type": "code",
   "execution_count": null,
   "id": "ed51c94b-31b7-454c-8b7f-546400233044",
   "metadata": {},
   "outputs": [],
   "source": [
    "import qiskit"
   ]
  },
  {
   "cell_type": "code",
   "execution_count": null,
   "id": "836c1981-4734-40e6-8728-3eb7fcae560e",
   "metadata": {},
   "outputs": [],
   "source": [
    "print(f\"Qiskit SDK version: {qiskit.__version__}\")"
   ]
  },
  {
   "cell_type": "markdown",
   "id": "096551b1-3952-41e2-9146-dc1752153a70",
   "metadata": {},
   "source": [
    "## Print Qiskit Aer version"
   ]
  },
  {
   "cell_type": "code",
   "execution_count": null,
   "id": "b8a3eef9-ca1d-48e2-a353-d8f6be91e29e",
   "metadata": {},
   "outputs": [],
   "source": [
    "import qiskit_aer"
   ]
  },
  {
   "cell_type": "code",
   "execution_count": null,
   "id": "bc9925c5-4de7-4be9-b9ca-437d61405c6b",
   "metadata": {
    "scrolled": true
   },
   "outputs": [],
   "source": [
    "print(f\"Qiskit Aer version: {qiskit_aer.__version__}\")"
   ]
  },
  {
   "cell_type": "markdown",
   "id": "bc19a26b-6fa3-4fe2-9f43-23016cd43693",
   "metadata": {},
   "source": [
    "## Print Qiskit runtime version"
   ]
  },
  {
   "cell_type": "code",
   "execution_count": null,
   "id": "5252b567-98e6-4c6d-9e5c-b85ac85bdb58",
   "metadata": {},
   "outputs": [],
   "source": [
    "import qiskit_ibm_runtime\n",
    "print(f\"Qiskit runtime version: {qiskit_ibm_runtime.__version__}\")"
   ]
  },
  {
   "cell_type": "markdown",
   "id": "16714eca-1b66-4729-b612-cdecb4d0f184",
   "metadata": {},
   "source": [
    "## Show Python version"
   ]
  },
  {
   "cell_type": "code",
   "execution_count": null,
   "id": "6ac2775e-355f-415b-ace1-59f51bcc5d52",
   "metadata": {
    "scrolled": true
   },
   "outputs": [],
   "source": [
    "%%bash\n",
    "which python\n",
    "python --version"
   ]
  }
 ],
 "metadata": {
  "kernelspec": {
   "display_name": "Python 3 (ipykernel)",
   "language": "python",
   "name": "python3"
  },
  "language_info": {
   "codemirror_mode": {
    "name": "ipython",
    "version": 3
   },
   "file_extension": ".py",
   "mimetype": "text/x-python",
   "name": "python",
   "nbconvert_exporter": "python",
   "pygments_lexer": "ipython3",
   "version": "3.13.0"
  }
 },
 "nbformat": 4,
 "nbformat_minor": 5
}
