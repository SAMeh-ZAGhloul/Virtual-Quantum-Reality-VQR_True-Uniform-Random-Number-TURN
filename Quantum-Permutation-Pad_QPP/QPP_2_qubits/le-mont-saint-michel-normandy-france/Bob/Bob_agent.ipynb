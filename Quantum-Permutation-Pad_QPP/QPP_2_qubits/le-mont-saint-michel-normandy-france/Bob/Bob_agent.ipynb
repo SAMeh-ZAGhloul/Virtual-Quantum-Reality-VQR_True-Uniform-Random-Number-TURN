{
 "cells": [
  {
   "cell_type": "markdown",
   "id": "07f51a8c-c74c-41fa-b3d9-b12444aae903",
   "metadata": {},
   "source": [
    "# Start Bob receiver agent as a uvicorn server\n",
    "\n",
    "Receiver agent functions as a uvicorn server and receives a file using:\n",
    "* 🛰️ FastAPI on the server (Remote Agent)\n",
    "* 📡 requests module on the client\n",
    "* 📦 File content encoded in Base64\n",
    "* 🌐 JSON-RPC 2.0 over HTTP\n",
    "\n",
    "## Documentation\n",
    "\n",
    "uvicorn, https://www.uvicorn.org/\n",
    "\n",
    "FastAPI is a modern, fast (high-performance), web framework for building APIs with Python based on standard Python type hints.\n",
    "https://fastapi.tiangolo.com/\n",
    "\n",
    "A2A leverages JSON-RPC 2.0 as the data exchange format for communication between a Client and a Remote Agent.\n",
    "https://google.github.io/A2A/#/documentation?id=agent-to-agent-communication\n",
    "\n",
    "JSON-RPC 2.0 Specification, https://www.jsonrpc.org/specification\n",
    "\n",
    "Welcome to jsonrpcserver’s documentation!\n",
    "https://www.jsonrpcserver.com/en/stable/examples.html#fastapi"
   ]
  },
  {
   "cell_type": "markdown",
   "id": "eba400f2-0de8-47bf-b226-92bdd1086ebd",
   "metadata": {},
   "source": [
    "## MIT License\n",
    "\n",
    "Copyright (c) 2025 Alain Chancé\n",
    "\n",
    "Permission is hereby granted, free of charge, to any person obtaining a copy\n",
    "of this software and associated documentation files (the \"Software\"), to deal\n",
    "in the Software without restriction, including without limitation the rights\n",
    "to use, copy, modify, merge, publish, distribute, sublicense, and/or sell\n",
    "copies of the Software, and to permit persons to whom the Software is\n",
    "furnished to do so, subject to the following conditions:\n",
    "\n",
    "The above copyright notice and this permission notice shall be included in all\n",
    "copies or substantial portions of the Software.\n",
    "\n",
    "THE SOFTWARE IS PROVIDED \"AS IS\", WITHOUT WARRANTY OF ANY KIND, EXPRESS OR\n",
    "IMPLIED, INCLUDING BUT NOT LIMITED TO THE WARRANTIES OF MERCHANTABILITY,\n",
    "FITNESS FOR A PARTICULAR PURPOSE AND NONINFRINGEMENT. IN NO EVENT SHALL THE\n",
    "AUTHORS OR COPYRIGHT HOLDERS BE LIABLE FOR ANY CLAIM, DAMAGES OR OTHER\n",
    "LIABILITY, WHETHER IN AN ACTION OF CONTRACT, TORT OR OTHERWISE, ARISING FROM,\n",
    "OUT OF OR IN CONNECTION WITH THE SOFTWARE OR THE USE OR OTHER DEALINGS IN THE\n",
    "SOFTWARE."
   ]
  },
  {
   "cell_type": "markdown",
   "id": "6da5e8e6-4dc9-4358-91a1-90c05cbbde39",
   "metadata": {},
   "source": [
    "### Install uvicorn\n",
    "Install uvicorn with minimal (pure Python) dependencies.\n",
    "https://www.uvicorn.org/"
   ]
  },
  {
   "cell_type": "code",
   "execution_count": 1,
   "id": "4e3d6ae0-6267-40c1-9882-e8610559f86c",
   "metadata": {},
   "outputs": [
    {
     "name": "stdout",
     "output_type": "stream",
     "text": [
      "Requirement already satisfied: uvicorn in /home/alain/miniconda3/lib/python3.13/site-packages (0.35.0)\n",
      "Requirement already satisfied: click>=7.0 in /home/alain/miniconda3/lib/python3.13/site-packages (from uvicorn) (8.2.1)\n",
      "Requirement already satisfied: h11>=0.8 in /home/alain/miniconda3/lib/python3.13/site-packages (from uvicorn) (0.16.0)\n",
      "Note: you may need to restart the kernel to use updated packages.\n"
     ]
    }
   ],
   "source": [
    "pip install uvicorn"
   ]
  },
  {
   "cell_type": "markdown",
   "id": "b4d121ea-1ced-4bd6-b985-0b9351e93e95",
   "metadata": {},
   "source": [
    "### Install FastAPI\n",
    "FastAPI is a modern, fast (high-performance), web framework for building APIs with Python based on standard Python type hints.\n",
    "https://fastapi.tiangolo.com/"
   ]
  },
  {
   "cell_type": "code",
   "execution_count": 2,
   "id": "98eb4bd8-02d3-4a7e-af79-8deb75e69671",
   "metadata": {
    "scrolled": true
   },
   "outputs": [
    {
     "name": "stdout",
     "output_type": "stream",
     "text": [
      "Requirement already satisfied: fastapi[standard] in /home/alain/miniconda3/lib/python3.13/site-packages (0.116.1)\n",
      "Requirement already satisfied: starlette<0.48.0,>=0.40.0 in /home/alain/miniconda3/lib/python3.13/site-packages (from fastapi[standard]) (0.47.2)\n",
      "Requirement already satisfied: pydantic!=1.8,!=1.8.1,!=2.0.0,!=2.0.1,!=2.1.0,<3.0.0,>=1.7.4 in /home/alain/miniconda3/lib/python3.13/site-packages (from fastapi[standard]) (2.10.3)\n",
      "Requirement already satisfied: typing-extensions>=4.8.0 in /home/alain/miniconda3/lib/python3.13/site-packages (from fastapi[standard]) (4.12.2)\n",
      "Requirement already satisfied: fastapi-cli>=0.0.8 in /home/alain/miniconda3/lib/python3.13/site-packages (from fastapi-cli[standard]>=0.0.8; extra == \"standard\"->fastapi[standard]) (0.0.8)\n",
      "Requirement already satisfied: httpx>=0.23.0 in /home/alain/miniconda3/lib/python3.13/site-packages (from fastapi[standard]) (0.28.1)\n",
      "Requirement already satisfied: jinja2>=3.1.5 in /home/alain/miniconda3/lib/python3.13/site-packages (from fastapi[standard]) (3.1.6)\n",
      "Requirement already satisfied: python-multipart>=0.0.18 in /home/alain/miniconda3/lib/python3.13/site-packages (from fastapi[standard]) (0.0.20)\n",
      "Requirement already satisfied: email-validator>=2.0.0 in /home/alain/miniconda3/lib/python3.13/site-packages (from fastapi[standard]) (2.2.0)\n",
      "Requirement already satisfied: uvicorn>=0.12.0 in /home/alain/miniconda3/lib/python3.13/site-packages (from uvicorn[standard]>=0.12.0; extra == \"standard\"->fastapi[standard]) (0.35.0)\n",
      "Requirement already satisfied: annotated-types>=0.6.0 in /home/alain/miniconda3/lib/python3.13/site-packages (from pydantic!=1.8,!=1.8.1,!=2.0.0,!=2.0.1,!=2.1.0,<3.0.0,>=1.7.4->fastapi[standard]) (0.6.0)\n",
      "Requirement already satisfied: pydantic-core==2.27.1 in /home/alain/miniconda3/lib/python3.13/site-packages (from pydantic!=1.8,!=1.8.1,!=2.0.0,!=2.0.1,!=2.1.0,<3.0.0,>=1.7.4->fastapi[standard]) (2.27.1)\n",
      "Requirement already satisfied: anyio<5,>=3.6.2 in /home/alain/miniconda3/lib/python3.13/site-packages (from starlette<0.48.0,>=0.40.0->fastapi[standard]) (4.9.0)\n",
      "Requirement already satisfied: idna>=2.8 in /home/alain/miniconda3/lib/python3.13/site-packages (from anyio<5,>=3.6.2->starlette<0.48.0,>=0.40.0->fastapi[standard]) (3.7)\n",
      "Requirement already satisfied: sniffio>=1.1 in /home/alain/miniconda3/lib/python3.13/site-packages (from anyio<5,>=3.6.2->starlette<0.48.0,>=0.40.0->fastapi[standard]) (1.3.1)\n",
      "Requirement already satisfied: dnspython>=2.0.0 in /home/alain/miniconda3/lib/python3.13/site-packages (from email-validator>=2.0.0->fastapi[standard]) (2.7.0)\n",
      "Requirement already satisfied: typer>=0.15.1 in /home/alain/miniconda3/lib/python3.13/site-packages (from fastapi-cli>=0.0.8->fastapi-cli[standard]>=0.0.8; extra == \"standard\"->fastapi[standard]) (0.16.0)\n",
      "Requirement already satisfied: rich-toolkit>=0.14.8 in /home/alain/miniconda3/lib/python3.13/site-packages (from fastapi-cli>=0.0.8->fastapi-cli[standard]>=0.0.8; extra == \"standard\"->fastapi[standard]) (0.15.0)\n",
      "Requirement already satisfied: fastapi-cloud-cli>=0.1.1 in /home/alain/miniconda3/lib/python3.13/site-packages (from fastapi-cli[standard]>=0.0.8; extra == \"standard\"->fastapi[standard]) (0.1.5)\n",
      "Requirement already satisfied: rignore>=0.5.1 in /home/alain/miniconda3/lib/python3.13/site-packages (from fastapi-cloud-cli>=0.1.1->fastapi-cli[standard]>=0.0.8; extra == \"standard\"->fastapi[standard]) (0.6.4)\n",
      "Requirement already satisfied: sentry-sdk>=2.20.0 in /home/alain/miniconda3/lib/python3.13/site-packages (from fastapi-cloud-cli>=0.1.1->fastapi-cli[standard]>=0.0.8; extra == \"standard\"->fastapi[standard]) (2.34.1)\n",
      "Requirement already satisfied: certifi in /home/alain/miniconda3/lib/python3.13/site-packages (from httpx>=0.23.0->fastapi[standard]) (2024.7.4)\n",
      "Requirement already satisfied: httpcore==1.* in /home/alain/miniconda3/lib/python3.13/site-packages (from httpx>=0.23.0->fastapi[standard]) (1.0.9)\n",
      "Requirement already satisfied: h11>=0.16 in /home/alain/miniconda3/lib/python3.13/site-packages (from httpcore==1.*->httpx>=0.23.0->fastapi[standard]) (0.16.0)\n",
      "Requirement already satisfied: MarkupSafe>=2.0 in /home/alain/miniconda3/lib/python3.13/site-packages (from jinja2>=3.1.5->fastapi[standard]) (3.0.2)\n",
      "Requirement already satisfied: click>=8.1.7 in /home/alain/miniconda3/lib/python3.13/site-packages (from rich-toolkit>=0.14.8->fastapi-cli>=0.0.8->fastapi-cli[standard]>=0.0.8; extra == \"standard\"->fastapi[standard]) (8.2.1)\n",
      "Requirement already satisfied: rich>=13.7.1 in /home/alain/miniconda3/lib/python3.13/site-packages (from rich-toolkit>=0.14.8->fastapi-cli>=0.0.8->fastapi-cli[standard]>=0.0.8; extra == \"standard\"->fastapi[standard]) (13.9.4)\n",
      "Requirement already satisfied: markdown-it-py>=2.2.0 in /home/alain/miniconda3/lib/python3.13/site-packages (from rich>=13.7.1->rich-toolkit>=0.14.8->fastapi-cli>=0.0.8->fastapi-cli[standard]>=0.0.8; extra == \"standard\"->fastapi[standard]) (2.2.0)\n",
      "Requirement already satisfied: pygments<3.0.0,>=2.13.0 in /home/alain/miniconda3/lib/python3.13/site-packages (from rich>=13.7.1->rich-toolkit>=0.14.8->fastapi-cli>=0.0.8->fastapi-cli[standard]>=0.0.8; extra == \"standard\"->fastapi[standard]) (2.19.1)\n",
      "Requirement already satisfied: mdurl~=0.1 in /home/alain/miniconda3/lib/python3.13/site-packages (from markdown-it-py>=2.2.0->rich>=13.7.1->rich-toolkit>=0.14.8->fastapi-cli>=0.0.8->fastapi-cli[standard]>=0.0.8; extra == \"standard\"->fastapi[standard]) (0.1.0)\n",
      "Requirement already satisfied: urllib3>=1.26.11 in /home/alain/miniconda3/lib/python3.13/site-packages (from sentry-sdk>=2.20.0->fastapi-cloud-cli>=0.1.1->fastapi-cli[standard]>=0.0.8; extra == \"standard\"->fastapi[standard]) (2.5.0)\n",
      "Requirement already satisfied: shellingham>=1.3.0 in /home/alain/miniconda3/lib/python3.13/site-packages (from typer>=0.15.1->fastapi-cli>=0.0.8->fastapi-cli[standard]>=0.0.8; extra == \"standard\"->fastapi[standard]) (1.5.4)\n",
      "Requirement already satisfied: httptools>=0.6.3 in /home/alain/miniconda3/lib/python3.13/site-packages (from uvicorn[standard]>=0.12.0; extra == \"standard\"->fastapi[standard]) (0.6.4)\n",
      "Requirement already satisfied: python-dotenv>=0.13 in /home/alain/miniconda3/lib/python3.13/site-packages (from uvicorn[standard]>=0.12.0; extra == \"standard\"->fastapi[standard]) (1.1.1)\n",
      "Requirement already satisfied: pyyaml>=5.1 in /home/alain/miniconda3/lib/python3.13/site-packages (from uvicorn[standard]>=0.12.0; extra == \"standard\"->fastapi[standard]) (6.0.2)\n",
      "Requirement already satisfied: uvloop>=0.15.1 in /home/alain/miniconda3/lib/python3.13/site-packages (from uvicorn[standard]>=0.12.0; extra == \"standard\"->fastapi[standard]) (0.21.0)\n",
      "Requirement already satisfied: watchfiles>=0.13 in /home/alain/miniconda3/lib/python3.13/site-packages (from uvicorn[standard]>=0.12.0; extra == \"standard\"->fastapi[standard]) (1.1.0)\n",
      "Requirement already satisfied: websockets>=10.4 in /home/alain/miniconda3/lib/python3.13/site-packages (from uvicorn[standard]>=0.12.0; extra == \"standard\"->fastapi[standard]) (15.0.1)\n",
      "Note: you may need to restart the kernel to use updated packages.\n"
     ]
    }
   ],
   "source": [
    "pip install \"fastapi[standard]\""
   ]
  },
  {
   "cell_type": "markdown",
   "id": "2c656b9d-7f1e-4941-9e5f-6c48c561d904",
   "metadata": {},
   "source": [
    "### Install jsonrpcserver\n",
    "Process incoming JSON-RPC requests in Python.\n",
    "\n",
    "Welcome to jsonrpcserver’s documentation! https://www.jsonrpcserver.com/en/stable/\n",
    "\n",
    "https://pypi.org/project/jsonrpcserver/"
   ]
  },
  {
   "cell_type": "code",
   "execution_count": 3,
   "id": "7c159e68-b108-40d7-94bd-3c1ae82e532c",
   "metadata": {},
   "outputs": [
    {
     "name": "stdout",
     "output_type": "stream",
     "text": [
      "Requirement already satisfied: jsonrpcserver in /home/alain/miniconda3/lib/python3.13/site-packages (5.0.9)\n",
      "Requirement already satisfied: jsonschema<5 in /home/alain/miniconda3/lib/python3.13/site-packages (from jsonrpcserver) (4.24.0)\n",
      "Requirement already satisfied: oslash<1 in /home/alain/miniconda3/lib/python3.13/site-packages (from jsonrpcserver) (0.6.3)\n",
      "Requirement already satisfied: attrs>=22.2.0 in /home/alain/miniconda3/lib/python3.13/site-packages (from jsonschema<5->jsonrpcserver) (25.3.0)\n",
      "Requirement already satisfied: jsonschema-specifications>=2023.03.6 in /home/alain/miniconda3/lib/python3.13/site-packages (from jsonschema<5->jsonrpcserver) (2025.4.1)\n",
      "Requirement already satisfied: referencing>=0.28.4 in /home/alain/miniconda3/lib/python3.13/site-packages (from jsonschema<5->jsonrpcserver) (0.36.2)\n",
      "Requirement already satisfied: rpds-py>=0.7.1 in /home/alain/miniconda3/lib/python3.13/site-packages (from jsonschema<5->jsonrpcserver) (0.26.0)\n",
      "Requirement already satisfied: typing-extensions in /home/alain/miniconda3/lib/python3.13/site-packages (from oslash<1->jsonrpcserver) (4.12.2)\n",
      "Note: you may need to restart the kernel to use updated packages.\n"
     ]
    }
   ],
   "source": [
    "pip install jsonrpcserver"
   ]
  },
  {
   "cell_type": "code",
   "execution_count": null,
   "id": "797354ba-c322-49c1-b29d-1869e9518753",
   "metadata": {},
   "outputs": [
    {
     "name": "stderr",
     "output_type": "stream",
     "text": [
      "INFO:     Started server process [23835]\n",
      "INFO:     Waiting for application startup.\n",
      "INFO:     Application startup complete.\n",
      "INFO:     Uvicorn running on http://127.0.0.1:8000 (Press CTRL+C to quit)\n"
     ]
    },
    {
     "name": "stdout",
     "output_type": "stream",
     "text": [
      "INFO:     127.0.0.1:53646 - \"POST /rpc HTTP/1.1\" 200 OK\n",
      "INFO:     127.0.0.1:39030 - \"POST /rpc HTTP/1.1\" 200 OK\n",
      "INFO:     127.0.0.1:39032 - \"POST /rpc HTTP/1.1\" 200 OK\n",
      "INFO:     127.0.0.1:39036 - \"POST /rpc HTTP/1.1\" 200 OK\n"
     ]
    }
   ],
   "source": [
    "import subprocess\n",
    "\n",
    "# Start receiver_agent as a uvicorn server\n",
    "# https://www.uvicorn.org/\n",
    "\n",
    "subprocess.run([\"python\", \"receiver_agent.py\"])"
   ]
  }
 ],
 "metadata": {
  "kernelspec": {
   "display_name": "Python 3 (ipykernel)",
   "language": "python",
   "name": "python3"
  },
  "language_info": {
   "codemirror_mode": {
    "name": "ipython",
    "version": 3
   },
   "file_extension": ".py",
   "mimetype": "text/x-python",
   "name": "python",
   "nbconvert_exporter": "python",
   "pygments_lexer": "ipython3",
   "version": "3.13.0"
  }
 },
 "nbformat": 4,
 "nbformat_minor": 5
}
