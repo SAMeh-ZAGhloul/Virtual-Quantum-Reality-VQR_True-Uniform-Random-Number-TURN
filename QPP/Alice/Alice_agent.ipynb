{
 "cells": [
  {
   "cell_type": "markdown",
   "id": "37c1309d-c391-4578-8588-392b3c8b92a6",
   "metadata": {},
   "source": [
    "# Alice Agent\n",
    "\n",
    "Alice client instantiates a SenderAgent class and sends a file with the send_file method using:\n",
    "* 📡 requests module\n",
    "* 📦 File content encoded in Base64\n",
    "* 🌐 JSON-RPC 2.0 over HTTP\n",
    " \n",
    "A2A leverages JSON-RPC 2.0 as the data exchange format for communication between a Client and a Remote Agent.\n",
    "\n",
    "https://google.github.io/A2A/#/documentation?id=agent-to-agent-communication"
   ]
  },
  {
   "cell_type": "markdown",
   "id": "43e80ebd-0676-4561-805f-b5fc89b9102d",
   "metadata": {},
   "source": [
    "## MIT License\n",
    "\n",
    "Copyright (c) 2025 Alain Chancé\n",
    "\n",
    "Permission is hereby granted, free of charge, to any person obtaining a copy\n",
    "of this software and associated documentation files (the \"Software\"), to deal\n",
    "in the Software without restriction, including without limitation the rights\n",
    "to use, copy, modify, merge, publish, distribute, sublicense, and/or sell\n",
    "copies of the Software, and to permit persons to whom the Software is\n",
    "furnished to do so, subject to the following conditions:\n",
    "\n",
    "The above copyright notice and this permission notice shall be included in all\n",
    "copies or substantial portions of the Software.\n",
    "\n",
    "THE SOFTWARE IS PROVIDED \"AS IS\", WITHOUT WARRANTY OF ANY KIND, EXPRESS OR\n",
    "IMPLIED, INCLUDING BUT NOT LIMITED TO THE WARRANTIES OF MERCHANTABILITY,\n",
    "FITNESS FOR A PARTICULAR PURPOSE AND NONINFRINGEMENT. IN NO EVENT SHALL THE\n",
    "AUTHORS OR COPYRIGHT HOLDERS BE LIABLE FOR ANY CLAIM, DAMAGES OR OTHER\n",
    "LIABILITY, WHETHER IN AN ACTION OF CONTRACT, TORT OR OTHERWISE, ARISING FROM,\n",
    "OUT OF OR IN CONNECTION WITH THE SOFTWARE OR THE USE OR OTHER DEALINGS IN THE\n",
    "SOFTWARE."
   ]
  },
  {
   "cell_type": "markdown",
   "id": "82d7f51a-cb63-4e74-a00e-16fc7bf85097",
   "metadata": {},
   "source": [
    "## Alice agent sends three files to Bob agent"
   ]
  },
  {
   "cell_type": "code",
   "execution_count": 1,
   "id": "2a1d0276-b320-4622-8d75-482746fe6e7e",
   "metadata": {},
   "outputs": [],
   "source": [
    "import os\n",
    "import json\n",
    "\n",
    "# Open QPP_param JSON file and save content in json_param dictionary\n",
    "QPP_param_file = \"QPP_param.json\"\n",
    "\n",
    "if os.path.isfile(QPP_param_file):\n",
    "    with open(QPP_param_file) as json_file:\n",
    "        json_param = json.load(json_file)\n",
    "else:\n",
    "    print(\"Error: missing QPP_param.json file: {}\".format(QPP_param_file))"
   ]
  },
  {
   "cell_type": "markdown",
   "id": "bba8ca27-db60-4ea4-bca7-bb5b828e01b5",
   "metadata": {},
   "source": [
    "### Create Alice agent"
   ]
  },
  {
   "cell_type": "code",
   "execution_count": 2,
   "id": "65b851e7-3b1b-4583-9f8e-0a48350f31e6",
   "metadata": {},
   "outputs": [],
   "source": [
    "from sender_agent import SenderAgent\n",
    "server_url=\"http://127.0.0.1:8000/rpc\"\n",
    "alice_agent = SenderAgent()\n",
    "response_dict = {}"
   ]
  },
  {
   "cell_type": "markdown",
   "id": "3177d0ab-7996-44bc-a56b-1f020ec94ba7",
   "metadata": {},
   "source": [
    "### Ping server url"
   ]
  },
  {
   "cell_type": "code",
   "execution_count": null,
   "id": "7b13d568-1f66-4857-8702-a192e243d5a7",
   "metadata": {},
   "outputs": [],
   "source": [
    "OK = alice_agent.ping_server(server_url=server_url)\n",
    "if not OK:\n",
    "    while True:\n",
    "        response = input(\"Start a receiver agent with Bob_agent.ipynb - and enter 'y' when done\").strip()\n",
    "        if response.lower() == \"y\":\n",
    "            print(\"You entered: \", response)\n",
    "            if alice_agent.ping_server(server_url=server_url):\n",
    "                print(\"Receiver agent reached\")\n",
    "                break\n",
    "            else:\n",
    "                print(\"Receiver agent not reachable - try again\")\n",
    "        else:\n",
    "            print(\"Enter y when done\")"
   ]
  },
  {
   "cell_type": "markdown",
   "id": "fd6637e8-91f1-4ea6-9206-6e245fbd2f19",
   "metadata": {},
   "source": [
    "### Simulate transmission of secret key over a secure channel"
   ]
  },
  {
   "cell_type": "code",
   "execution_count": 3,
   "id": "c0edf04f-5f90-4384-955a-44fe08a18bd6",
   "metadata": {},
   "outputs": [
    {
     "name": "stdout",
     "output_type": "stream",
     "text": [
      "Status: 200\n",
      "Server response: {\"jsonrpc\": \"2.0\", \"result\": \"File 'Secret_key_2-qubits_Hello.txt' received and saved successfully.\", \"id\": 1}\n"
     ]
    }
   ],
   "source": [
    "plaintext_file = json_param['plaintext_file']\n",
    "num_of_qubits = json_param['num_of_qubits']\n",
    "\n",
    "filename = \"Secret_key_\" + str(num_of_qubits) + \"-qubits_\" + plaintext_file[:-3] + \"txt\"\n",
    "response_dict = alice_agent.send_file(filename=filename, server_url=server_url)"
   ]
  },
  {
   "cell_type": "markdown",
   "id": "08d3f28c-c27f-45cb-b18f-ffc80614f700",
   "metadata": {},
   "source": [
    "### Simulate transmission of json parameter file"
   ]
  },
  {
   "cell_type": "code",
   "execution_count": 4,
   "id": "69597b29-0767-4289-a142-77f8eafea057",
   "metadata": {},
   "outputs": [
    {
     "name": "stdout",
     "output_type": "stream",
     "text": [
      "Status: 200\n",
      "Server response: {\"jsonrpc\": \"2.0\", \"result\": \"File 'QPP_param.json' received and saved successfully.\", \"id\": 1}\n"
     ]
    }
   ],
   "source": [
    "filename = \"QPP_param.json\"\n",
    "response_dict = alice_agent.send_file(filename=filename, server_url=server_url)"
   ]
  },
  {
   "cell_type": "markdown",
   "id": "1f8008fd-051e-4c2f-9df1-6891f444854e",
   "metadata": {},
   "source": [
    "### Simulate transmission of ciphertext file "
   ]
  },
  {
   "cell_type": "code",
   "execution_count": 5,
   "id": "bbf79772-dd96-40b2-9db6-a62e8000bc4a",
   "metadata": {},
   "outputs": [
    {
     "name": "stdout",
     "output_type": "stream",
     "text": [
      "Status: 200\n",
      "Server response: {\"jsonrpc\": \"2.0\", \"result\": \"File 'ciphertext_Hello.bin' received and saved successfully.\", \"id\": 1}\n"
     ]
    }
   ],
   "source": [
    "filename = \"ciphertext_\" + plaintext_file[:-3] + \"bin\"\n",
    "response_dict = alice_agent.send_file(filename=filename, server_url=server_url)"
   ]
  }
 ],
 "metadata": {
  "kernelspec": {
   "display_name": "Python 3 (ipykernel)",
   "language": "python",
   "name": "python3"
  },
  "language_info": {
   "codemirror_mode": {
    "name": "ipython",
    "version": 3
   },
   "file_extension": ".py",
   "mimetype": "text/x-python",
   "name": "python",
   "nbconvert_exporter": "python",
   "pygments_lexer": "ipython3",
   "version": "3.13.0"
  },
  "widgets": {
   "application/vnd.jupyter.widget-state+json": {
    "state": {
     "01231487ec414b24bd761f6dd76fc016": {
      "model_module": "@jupyter-widgets/base",
      "model_module_version": "1.2.0",
      "model_name": "LayoutModel",
      "state": {
       "width": "190px"
      }
     },
     "15a8688e002d43adbccd012eefd05e51": {
      "model_module": "@jupyter-widgets/controls",
      "model_module_version": "1.5.0",
      "model_name": "HTMLModel",
      "state": {
       "layout": "IPY_MODEL_eb974c9225c14c1d901d2381b81c0952",
       "style": "IPY_MODEL_b6762439874e41c38b2ac1b21790f0db",
       "value": "<h5>Message</h5>"
      }
     },
     "1c7de92203e740098ca0f00e488e47e9": {
      "model_module": "@jupyter-widgets/controls",
      "model_module_version": "1.5.0",
      "model_name": "HBoxModel",
      "state": {
       "children": [
        "IPY_MODEL_cb71e659e00a40cfba214efd500083fb",
        "IPY_MODEL_799b064975484c5690a72ede0fa8855e",
        "IPY_MODEL_84f13d6437654954a9e7751d95f0d276",
        "IPY_MODEL_a960fc42b4534aa3a35f635e30a1e288",
        "IPY_MODEL_15a8688e002d43adbccd012eefd05e51"
       ],
       "layout": "IPY_MODEL_882736f26bea4b7d9836e2ea7ececf83"
      }
     },
     "42b7643650d24814affdaa618a02aeb0": {
      "model_module": "@jupyter-widgets/controls",
      "model_module_version": "1.5.0",
      "model_name": "ButtonModel",
      "state": {
       "button_style": "primary",
       "description": "Clear",
       "layout": "IPY_MODEL_fbfa86e960e04a5f95619e18a23739dc",
       "style": "IPY_MODEL_746716bf92ac4c418d498bb56ca229be"
      }
     },
     "485bd1112c364e63b7a55bd8c386eb0c": {
      "model_module": "@jupyter-widgets/controls",
      "model_module_version": "1.5.0",
      "model_name": "GridBoxModel",
      "state": {
       "children": [
        "IPY_MODEL_42b7643650d24814affdaa618a02aeb0"
       ],
       "layout": "IPY_MODEL_de58e34a7edc401e87342f04d1d3065f"
      }
     },
     "746716bf92ac4c418d498bb56ca229be": {
      "model_module": "@jupyter-widgets/controls",
      "model_module_version": "1.5.0",
      "model_name": "ButtonStyleModel",
      "state": {}
     },
     "74b6f2dd988347b7a07221fb5353df09": {
      "model_module": "@jupyter-widgets/controls",
      "model_module_version": "1.5.0",
      "model_name": "DescriptionStyleModel",
      "state": {
       "description_width": ""
      }
     },
     "790a1a267c374532a2360b67ba400279": {
      "model_module": "@jupyter-widgets/base",
      "model_module_version": "1.2.0",
      "model_name": "LayoutModel",
      "state": {
       "width": "95px"
      }
     },
     "799b064975484c5690a72ede0fa8855e": {
      "model_module": "@jupyter-widgets/controls",
      "model_module_version": "1.5.0",
      "model_name": "HTMLModel",
      "state": {
       "layout": "IPY_MODEL_ee251e5ed3934cf9a093286fee4af98b",
       "style": "IPY_MODEL_74b6f2dd988347b7a07221fb5353df09",
       "value": "<h5>Backend</h5>"
      }
     },
     "84f13d6437654954a9e7751d95f0d276": {
      "model_module": "@jupyter-widgets/controls",
      "model_module_version": "1.5.0",
      "model_name": "HTMLModel",
      "state": {
       "layout": "IPY_MODEL_790a1a267c374532a2360b67ba400279",
       "style": "IPY_MODEL_cc7fbd6e616b48ba8670a24863e2d88f",
       "value": "<h5>Status</h5>"
      }
     },
     "882736f26bea4b7d9836e2ea7ececf83": {
      "model_module": "@jupyter-widgets/base",
      "model_module_version": "1.2.0",
      "model_name": "LayoutModel",
      "state": {
       "margin": "0px 0px 0px 37px",
       "width": "600px"
      }
     },
     "a2d56da859ad4bf4a827041ae905da73": {
      "model_module": "@jupyter-widgets/controls",
      "model_module_version": "1.5.0",
      "model_name": "DescriptionStyleModel",
      "state": {
       "description_width": ""
      }
     },
     "a960fc42b4534aa3a35f635e30a1e288": {
      "model_module": "@jupyter-widgets/controls",
      "model_module_version": "1.5.0",
      "model_name": "HTMLModel",
      "state": {
       "layout": "IPY_MODEL_f59d35bcdf46447997dd4fd8809c0d4d",
       "style": "IPY_MODEL_e237896267074e489426d2aedb7f348b",
       "value": "<h5>Queue</h5>"
      }
     },
     "b6762439874e41c38b2ac1b21790f0db": {
      "model_module": "@jupyter-widgets/controls",
      "model_module_version": "1.5.0",
      "model_name": "DescriptionStyleModel",
      "state": {
       "description_width": ""
      }
     },
     "b7345e1a00e3440b87008eb08ea836c7": {
      "model_module": "@jupyter-widgets/controls",
      "model_module_version": "1.5.0",
      "model_name": "DescriptionStyleModel",
      "state": {
       "description_width": ""
      }
     },
     "cb71e659e00a40cfba214efd500083fb": {
      "model_module": "@jupyter-widgets/controls",
      "model_module_version": "1.5.0",
      "model_name": "HTMLModel",
      "state": {
       "layout": "IPY_MODEL_01231487ec414b24bd761f6dd76fc016",
       "style": "IPY_MODEL_a2d56da859ad4bf4a827041ae905da73",
       "value": "<h5>Job ID</h5>"
      }
     },
     "cc7fbd6e616b48ba8670a24863e2d88f": {
      "model_module": "@jupyter-widgets/controls",
      "model_module_version": "1.5.0",
      "model_name": "DescriptionStyleModel",
      "state": {
       "description_width": ""
      }
     },
     "de58e34a7edc401e87342f04d1d3065f": {
      "model_module": "@jupyter-widgets/base",
      "model_module_version": "1.2.0",
      "model_name": "LayoutModel",
      "state": {
       "grid_template_areas": "\n                                       \". . . . right \"\n                                        ",
       "grid_template_columns": "20% 20% 20% 20% 20%",
       "width": "100%"
      }
     },
     "e237896267074e489426d2aedb7f348b": {
      "model_module": "@jupyter-widgets/controls",
      "model_module_version": "1.5.0",
      "model_name": "DescriptionStyleModel",
      "state": {
       "description_width": ""
      }
     },
     "e56746ba29da4cb98f6a534584c6d556": {
      "model_module": "@jupyter-widgets/controls",
      "model_module_version": "1.5.0",
      "model_name": "HTMLModel",
      "state": {
       "layout": "IPY_MODEL_fe8260cf883a46beb0a8a98b5504fdd9",
       "style": "IPY_MODEL_b7345e1a00e3440b87008eb08ea836c7",
       "value": "<p style='font-family: IBM Plex Sans, Arial, Helvetica, sans-serif; font-size: 20px; font-weight: medium;'>Circuit Properties</p>"
      }
     },
     "eb974c9225c14c1d901d2381b81c0952": {
      "model_module": "@jupyter-widgets/base",
      "model_module_version": "1.2.0",
      "model_name": "LayoutModel",
      "state": {}
     },
     "ee251e5ed3934cf9a093286fee4af98b": {
      "model_module": "@jupyter-widgets/base",
      "model_module_version": "1.2.0",
      "model_name": "LayoutModel",
      "state": {
       "width": "145px"
      }
     },
     "f59d35bcdf46447997dd4fd8809c0d4d": {
      "model_module": "@jupyter-widgets/base",
      "model_module_version": "1.2.0",
      "model_name": "LayoutModel",
      "state": {
       "width": "70px"
      }
     },
     "fbfa86e960e04a5f95619e18a23739dc": {
      "model_module": "@jupyter-widgets/base",
      "model_module_version": "1.2.0",
      "model_name": "LayoutModel",
      "state": {
       "grid_area": "right",
       "padding": "0px 0px 0px 0px",
       "width": "70px"
      }
     },
     "fe8260cf883a46beb0a8a98b5504fdd9": {
      "model_module": "@jupyter-widgets/base",
      "model_module_version": "1.2.0",
      "model_name": "LayoutModel",
      "state": {
       "margin": "0px 0px 10px 0px"
      }
     }
    },
    "version_major": 2,
    "version_minor": 0
   }
  }
 },
 "nbformat": 4,
 "nbformat_minor": 5
}
